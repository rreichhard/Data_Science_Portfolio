{
 "cells": [
  {
   "cell_type": "code",
   "execution_count": 2,
   "id": "282d0b32-5ea9-46a3-af12-b00e0be414e1",
   "metadata": {},
   "outputs": [],
   "source": [
    "import keras\n",
    "from keras import layers\n",
    "import pandas as pd\n",
    "import numpy as np\n",
    "import json\n",
    "import matplotlib.pyplot as plt\n",
    "import codecs\n",
    "import random\n",
    "import sys"
   ]
  },
  {
   "cell_type": "code",
   "execution_count": 3,
   "id": "ad3a2daf-5a8c-4aaf-b250-0e783b2969e7",
   "metadata": {},
   "outputs": [],
   "source": [
    "with codecs.open('avatar_fulltextjson.json','r','utf-8-sig') as data:\n",
    "    text = json.load(data).lower()"
   ]
  },
  {
   "cell_type": "code",
   "execution_count": 4,
   "id": "b905f34c-8487-4a19-80ea-73ba25abeae1",
   "metadata": {},
   "outputs": [
    {
     "name": "stdout",
     "output_type": "stream",
     "text": [
      "Corpus Length: 1814811\n"
     ]
    }
   ],
   "source": [
    "print('Corpus Length:',len(text))"
   ]
  },
  {
   "cell_type": "code",
   "execution_count": 5,
   "id": "b26264d0-95d9-485b-a132-d13ec1db27b1",
   "metadata": {},
   "outputs": [
    {
     "name": "stdout",
     "output_type": "stream",
     "text": [
      "Number of sequences: 120921\n",
      "Unique characters: 55\n",
      "Vectorization...\n"
     ]
    },
    {
     "name": "stderr",
     "output_type": "stream",
     "text": [
      "<ipython-input-5-2a9660ea9151>:26: DeprecationWarning: `np.bool` is a deprecated alias for the builtin `bool`. To silence this warning, use `bool` by itself. Doing this will not modify any behavior and is safe. If you specifically wanted the numpy scalar type, use `np.bool_` here.\n",
      "Deprecated in NumPy 1.20; for more details and guidance: https://numpy.org/devdocs/release/1.20.0-notes.html#deprecations\n",
      "  x = np.zeros((len(sentences), maxlen, len(chars)), dtype=np.bool)\n",
      "<ipython-input-5-2a9660ea9151>:27: DeprecationWarning: `np.bool` is a deprecated alias for the builtin `bool`. To silence this warning, use `bool` by itself. Doing this will not modify any behavior and is safe. If you specifically wanted the numpy scalar type, use `np.bool_` here.\n",
      "Deprecated in NumPy 1.20; for more details and guidance: https://numpy.org/devdocs/release/1.20.0-notes.html#deprecations\n",
      "  y = np.zeros((len(sentences), len(chars)), dtype=np.bool)\n"
     ]
    }
   ],
   "source": [
    "# Length of extracted character sequences\n",
    "maxlen = 500\n",
    "\n",
    "# We sample a new sequence every `step` characters\n",
    "step = 10\n",
    "\n",
    "# This holds our extracted sequences\n",
    "sentences = []\n",
    "\n",
    "# This holds the targets (the follow-up characters)\n",
    "next_chars = []\n",
    "\n",
    "for i in range(0, len(text) - maxlen, step):\n",
    "    sentences.append(text[i: i + maxlen])\n",
    "    next_chars.append(text[i + maxlen])\n",
    "print('Number of sequences:', len(sentences))\n",
    "\n",
    "# List of unique characters in the corpus\n",
    "chars = sorted(list(set(text)))\n",
    "print('Unique characters:', len(chars))\n",
    "# Dictionary mapping unique characters to their index in `chars`\n",
    "char_indices = dict((char, chars.index(char)) for char in chars)\n",
    "\n",
    "# Next, one-hot encode the characters into binary arrays.\n",
    "print('Vectorization...')\n",
    "x = np.zeros((len(sentences), maxlen, len(chars)), dtype=np.bool)\n",
    "y = np.zeros((len(sentences), len(chars)), dtype=np.bool)\n",
    "for i, sentence in enumerate(sentences):\n",
    "    for t, char in enumerate(sentence):\n",
    "        x[i, t, char_indices[char]] = 1\n",
    "    y[i, char_indices[next_chars[i]]] = 1"
   ]
  },
  {
   "cell_type": "code",
   "execution_count": 6,
   "id": "f9046754-e100-428c-8332-af41c00e310d",
   "metadata": {},
   "outputs": [],
   "source": [
    "model = keras.models.Sequential()\n",
    "model.add(layers.LSTM(128, input_shape=(maxlen, len(chars))))\n",
    "model.add(layers.Dense(len(chars), activation='softmax'))"
   ]
  },
  {
   "cell_type": "code",
   "execution_count": 7,
   "id": "e2b43c55-2415-4631-9199-53a83e6fc057",
   "metadata": {},
   "outputs": [
    {
     "name": "stderr",
     "output_type": "stream",
     "text": [
      "C:\\Users\\chels\\anaconda3\\lib\\site-packages\\keras\\optimizers\\optimizer_v2\\rmsprop.py:143: UserWarning: The `lr` argument is deprecated, use `learning_rate` instead.\n",
      "  super().__init__(name, **kwargs)\n"
     ]
    }
   ],
   "source": [
    "optimizer = keras.optimizers.RMSprop(lr=0.01)\n",
    "model.compile(loss='categorical_crossentropy', optimizer=optimizer)"
   ]
  },
  {
   "cell_type": "code",
   "execution_count": 8,
   "id": "79c1dfbb-c45d-40a7-9202-5e88618b83a4",
   "metadata": {},
   "outputs": [],
   "source": [
    "def sample(preds, temperature=1.0):\n",
    "    preds = np.asarray(preds).astype('float64')\n",
    "    preds = np.log(preds) / temperature\n",
    "    exp_preds = np.exp(preds)\n",
    "    preds = exp_preds / np.sum(exp_preds)\n",
    "    probas = np.random.multinomial(1, preds, 1)\n",
    "    return np.argmax(probas)"
   ]
  },
  {
   "cell_type": "code",
   "execution_count": null,
   "id": "82b64471-3894-4dee-a62a-1284cdad3da8",
   "metadata": {},
   "outputs": [
    {
     "name": "stdout",
     "output_type": "stream",
     "text": [
      "epoch 1\n",
      "945/945 [==============================] - 4805s 5s/step - loss: 2.0378\n",
      "--- Generating with seed: \" the scene changes to outside on the water where zuko rows past, navigating his way through the path of ice spikes. cuts to a view of a water tribe guard on patrol, pausing and looking out over the horizon just as zuko's canoe disappears behind an ice spike. the guard continues walking. cuts back to zuko who continues to paddle toward the wall, before switching to a shot of him peering from behind an ice spike, his canoe pulled up onto the ice. camera cuts to and zooms in on a shot of several water tribe guards marching atop the wall. zuko turns around and sees a group of turtle seals resting by a hole in the ice. one seal plunges head first into the icy water. zuko looks back up to the wall and begins approaching the hole. [peering down into the hole.] where are they going? [cuts to a shot of the hole, his face reflected in the water.] they're coming up for air somewhere. he pulls down the mask covering his mouth and nose and inhales deeply. cuts to shot of zuko from beneath the water\"\n",
      "------ temperature: 0.5\n",
      " the scene changes to outside on the water where zuko rows past, navigating his way through the path of ice spikes. cuts to a view of a water tribe guard on patrol, pausing and looking out over the horizon just as zuko's canoe disappears behind an ice spike. the guard continues walking. cuts back to zuko who continues to paddle toward the wall, before switching to a shot of him peering from behind an ice spike, his canoe pulled up onto the ice. camera cuts to and zooms in on a shot of several water tribe guards marching atop the wall. zuko turns around and sees a group of turtle seals resting by a hole in the ice. one seal plunges head first into the icy water. zuko looks back up to the wall and begins approaching the hole. [peering down into the hole.] where are they going? [cuts to a shot of the hole, his face reflected in the water.] they're coming up for air somewhere. he pulls down the mask covering his mouth and nose and inhales deeply. cuts to shot of zuko from beneath the water and an all the water a stande here to the guard and to the buinds to the water and you cut to and poinge into the sand wath shick the screan but surround on the closes and and behind his hagres to the and you laugh sokka angreep out a shot of the spires on the pan lise the but into wastoup of betars and shows the puses to the back and but the song ground the closted and shese but shit they late into the bugat of the sordiend of the to the praces on the wand and sokka and comets to behind from the blime and is show of the fire sidd to and the close the warr and earsede one the allord but fire and the guinge.] the onther and they and her himple and and hereer and down how the have and illow the fire look of the scene anracase. [cut to the walks out as a shot of the scime back. [cut to a shot of the racks and hear her him to the close and you down the retuen and like into the back as he and here turns to the surding here and shot of the close into and and but he camera and and wath betar\n",
      "------ temperature: 0.75\n",
      " and an all the water a stande here to the guard and to the buinds to the water and you cut to and poinge into the sand wath shick the screan but surround on the closes and and behind his hagres to the and you laugh sokka angreep out a shot of the spires on the pan lise the but into wastoup of betars and shows the puses to the back and but the song ground the closted and shese but shit they late into the bugat of the sordiend of the to the praces on the wand and sokka and comets to behind from the blime and is show of the fire sidd to and the close the warr and earsede one the allord but fire and the guinge.] the onther and they and her himple and and hereer and down how the have and illow the fire look of the scene anracase. [cut to the walks out as a shot of the scime back. [cut to a shot of the racks and hear her him to the close and you down the retuen and like into the back as he and here turns to the surding here and shot of the close into and and but he camera and and wath betar ears.] i on't you down it's of fire! appa, as he shot of mome and if uncreezung water they hown dust but the turns and swack. he castion closted. [and hatch a flack, who a clos, you air. [cuts to zoo's ilow the beace from the brom into here turns and sooking. the deins as the can but alars aknay. [cut to the ploppes the lagcht with to the doon't on't camera to back on the forg to roon ? [cuts to the notharfing in her back beting as he dound and but in a turnead head froht out. cut to aang a stapp you they have to blast and haste. the trybrect. muthe one. it's ceears it cotnter and katara coudrle and you're sokka and feal sokka air sckeer and beange of walks there reice by sideanted. [cut to a chat s attide and itharranding on't dust filling diste into shot of the creaches, the tead and roke the flase to the back over as he dround the tuid the ward to and surtious and backs to this pand hear and inoround upshere. [cut to and hear as cat of shot of katara and dight of her hold in him an\n",
      "------ temperature: 1.0\n",
      " ears.] i on't you down it's of fire! appa, as he shot of mome and if uncreezung water they hown dust but the turns and swack. he castion closted. [and hatch a flack, who a clos, you air. [cuts to zoo's ilow the beace from the brom into here turns and sooking. the deins as the can but alars aknay. [cut to the ploppes the lagcht with to the doon't on't camera to back on the forg to roon ? [cuts to the notharfing in her back beting as he dound and but in a turnead head froht out. cut to aang a stapp you they have to blast and haste. the trybrect. muthe one. it's ceears it cotnter and katara coudrle and you're sokka and feal sokka air sckeer and beange of walks there reice by sideanted. [cut to a chat s attide and itharranding on't dust filling diste into shot of the creaches, the tead and roke the flase to the back over as he dround the tuid the ward to and surtious and backs to this pand hear and inoround upshere. [cut to and hear as cat of shot of katara and dight of her hold in him and weit, viad around harrl high whicks tracky.] thread ennee, buw omeplade but thus ceter? ohe, surd-crostricks her a\"or. incava stupind on they. sunded, will ourss shi himfs and is ? homis, anmeld aro fear. [ling cuts of the scisems.] who fungef.] i''e? you, howntoby to aant, crises up, an chandivee't unde piindint thisses. dodld soy the goon zuko's ustienws! they preactice sod't ] mages outwared! [hutshas bull top. [madies for the camera fludre off arestebsser but zuko all what, woth tusnteds tutna't can a than bachgr hiswendiaal whil oin? [chere bace onay aang fire bning it. [herefencenge, it chast to like comet they and seod aromarcaing. glarded [to the surcrefming beenchima seds. redniors. you weach have out imon in oh, it's thein go bntomevery guard wat are lawt to a smidiow. aang and sposhit! [prpeefulipending blahted toph of the drousd! [hows water a seaghh; runn shetenly, that's my back.. and it's casm? e\\\"front the prette! netse surot ataen as ..\\r hatpchent intomor my. [cans \n",
      "------ temperature: 1.2\n",
      "d weit, viad around harrl high whicks tracky.] thread ennee, buw omeplade but thus ceter? ohe, surd-crostricks her a\"or. incava stupind on they. sunded, will ourss shi himfs and is ? homis, anmeld aro fear. [ling cuts of the scisems.] who fungef.] i''e? you, howntoby to aant, crises up, an chandivee't unde piindint thisses. dodld soy the goon zuko's ustienws! they preactice sod't ] mages outwared! [hutshas bull top. [madies for the camera fludre off arestebsser but zuko all what, woth tusnteds tutna't can a than bachgr hiswendiaal whil oin? [chere bace onay aang fire bning it. [herefencenge, it chast to like comet they and seod aromarcaing. glarded [to the surcrefming beenchima seds. redniors. you weach have out imon in oh, it's thein go bntomevery guard wat are lawt to a smidiow. aang and sposhit! [prpeefulipending blahted toph of the drousd! [hows water a seaghh; runn shetenly, that's my back.. and it's casm? e\\\"front the prette! netse surot ataen as ..\\r hatpchent intomor my. [cans it's gishoossly! [cocked with zuko abs hack of. puts towawas plach. they kasaka and downgh. [shamy you you're! wele, but jeel.] bejildinne! aang incold oun shows. i'm cource. so ! bey, gae bick and[in's ism's lave. detdy. cut of the rbandriang up tricky.] got on of the inthiays babls, wable plaster, aing back ploctli.] [tuint hasp you? [dutnges that] sirue. kataindbending him. onys bucked one dooh undo andellee antagher i whak ange's astrefundions. mefue buce into katara they it's matioc ?uch voidning up a coudl. meveulc i ! [bastaing iuthat, laslly here over i begiping react. amute? [shagh to tepp tepse upingy that vudw! histrysht, ans knoware andrencu. whan smicked musse the grads downxo\\r\\-humfie.] he's tmreato. ['mwrive. est a lave anclijis as but was istare thet misho angrie spire] the getses ziko rosfes't look, you're oneo laddefing tead from his fur.] tromedg, lead. mom his  explybdieyel over inmick and sandddierside.] bans off are thrsteme light! the fand] juintwere.arid, where\n",
      "epoch 2\n",
      "611/945 [==================>...........] - ETA: 48:08 - loss: 1.6310"
     ]
    }
   ],
   "source": [
    "for epoch in range(1, 10):\n",
    "    print('epoch', epoch)\n",
    "    # Fit the model for 1 epoch on the available training data\n",
    "    model.fit(x, y,\n",
    "              batch_size=128,\n",
    "              epochs=1)\n",
    "\n",
    "    # Select a text seed at random\n",
    "    start_index = random.randint(0, len(text) - maxlen - 1)\n",
    "    generated_text = text[start_index: start_index + maxlen]\n",
    "    print('--- Generating with seed: \"' + generated_text + '\"')\n",
    "\n",
    "    for temperature in [0.5, 0.75, 1.0]:\n",
    "        print('------ temperature:', temperature)\n",
    "        sys.stdout.write(generated_text)\n",
    "\n",
    "        # We generate 1000 characters\n",
    "        for i in range(1000):\n",
    "            sampled = np.zeros((1, maxlen, len(chars)))\n",
    "            for t, char in enumerate(generated_text):\n",
    "                sampled[0, t, char_indices[char]] = 1.\n",
    "\n",
    "            preds = model.predict(sampled, verbose=0)[0]\n",
    "            next_index = sample(preds, temperature)\n",
    "            next_char = chars[next_index]\n",
    "\n",
    "            generated_text += next_char\n",
    "            generated_text = generated_text[1:]\n",
    "\n",
    "            sys.stdout.write(next_char)\n",
    "            sys.stdout.flush()\n",
    "        print()"
   ]
  },
  {
   "cell_type": "code",
   "execution_count": null,
   "id": "28d6510e-75cd-4a2c-9bc4-d1103fed0382",
   "metadata": {},
   "outputs": [],
   "source": []
  }
 ],
 "metadata": {
  "kernelspec": {
   "display_name": "Python 3",
   "language": "python",
   "name": "python3"
  },
  "language_info": {
   "codemirror_mode": {
    "name": "ipython",
    "version": 3
   },
   "file_extension": ".py",
   "mimetype": "text/x-python",
   "name": "python",
   "nbconvert_exporter": "python",
   "pygments_lexer": "ipython3",
   "version": "3.8.8"
  }
 },
 "nbformat": 4,
 "nbformat_minor": 5
}
