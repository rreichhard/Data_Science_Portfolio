{
 "cells": [
  {
   "cell_type": "code",
   "execution_count": 1,
   "metadata": {},
   "outputs": [],
   "source": [
    "import pandas as pd"
   ]
  },
  {
   "cell_type": "code",
   "execution_count": 2,
   "metadata": {},
   "outputs": [],
   "source": [
    "df = pd.read_csv('lyric_df.csv', index_col=0)"
   ]
  },
  {
   "cell_type": "code",
   "execution_count": 12,
   "metadata": {},
   "outputs": [
    {
     "data": {
      "text/plain": [
       "(176, 3)"
      ]
     },
     "execution_count": 12,
     "metadata": {},
     "output_type": "execute_result"
    }
   ],
   "source": [
    "df.shape"
   ]
  },
  {
   "cell_type": "code",
   "execution_count": null,
   "metadata": {},
   "outputs": [],
   "source": [
    "df.rename(columns=['Artist Name': ''])"
   ]
  },
  {
   "cell_type": "code",
   "execution_count": 4,
   "metadata": {},
   "outputs": [],
   "source": [
    "rnrhof = pd.read_csv('rnrhof.csv', index_col=0)"
   ]
  },
  {
   "cell_type": "code",
   "execution_count": 5,
   "metadata": {},
   "outputs": [
    {
     "data": {
      "text/html": [
       "<div>\n",
       "<style scoped>\n",
       "    .dataframe tbody tr th:only-of-type {\n",
       "        vertical-align: middle;\n",
       "    }\n",
       "\n",
       "    .dataframe tbody tr th {\n",
       "        vertical-align: top;\n",
       "    }\n",
       "\n",
       "    .dataframe thead th {\n",
       "        text-align: right;\n",
       "    }\n",
       "</style>\n",
       "<table border=\"1\" class=\"dataframe\">\n",
       "  <thead>\n",
       "    <tr style=\"text-align: right;\">\n",
       "      <th></th>\n",
       "      <th>Induction Year</th>\n",
       "      <th>Name</th>\n",
       "      <th>Inducted Members</th>\n",
       "      <th>Inducted By</th>\n",
       "    </tr>\n",
       "  </thead>\n",
       "  <tbody>\n",
       "    <tr>\n",
       "      <th>0</th>\n",
       "      <td>1986</td>\n",
       "      <td>Chuck Berry</td>\n",
       "      <td>NaN</td>\n",
       "      <td>Keith Richards</td>\n",
       "    </tr>\n",
       "    <tr>\n",
       "      <th>1</th>\n",
       "      <td>1986</td>\n",
       "      <td>James Brown</td>\n",
       "      <td>NaN</td>\n",
       "      <td>Steve Winwood</td>\n",
       "    </tr>\n",
       "    <tr>\n",
       "      <th>2</th>\n",
       "      <td>1986</td>\n",
       "      <td>Ray Charles</td>\n",
       "      <td>NaN</td>\n",
       "      <td>Quincy Jones</td>\n",
       "    </tr>\n",
       "    <tr>\n",
       "      <th>3</th>\n",
       "      <td>1986</td>\n",
       "      <td>Sam Cooke</td>\n",
       "      <td>NaN</td>\n",
       "      <td>Herb Alpert</td>\n",
       "    </tr>\n",
       "    <tr>\n",
       "      <th>4</th>\n",
       "      <td>1986</td>\n",
       "      <td>Fats Domino</td>\n",
       "      <td>NaN</td>\n",
       "      <td>Billy Joel</td>\n",
       "    </tr>\n",
       "  </tbody>\n",
       "</table>\n",
       "</div>"
      ],
      "text/plain": [
       "   Induction Year         Name Inducted Members       Inducted By\n",
       "0            1986  Chuck Berry              NaN  Keith Richards  \n",
       "1            1986  James Brown              NaN   Steve Winwood  \n",
       "2            1986  Ray Charles              NaN    Quincy Jones  \n",
       "3            1986    Sam Cooke              NaN     Herb Alpert  \n",
       "4            1986  Fats Domino              NaN      Billy Joel  "
      ]
     },
     "execution_count": 5,
     "metadata": {},
     "output_type": "execute_result"
    }
   ],
   "source": [
    "rnrhof.head()"
   ]
  },
  {
   "cell_type": "code",
   "execution_count": 6,
   "metadata": {},
   "outputs": [],
   "source": [
    "rnrhof['Inducted Members'] = rnrhof['Inducted Members'].str.lower()\n",
    "rnrhof['Name'] = rnrhof['Name'].str.lower()\n",
    "rnrhof['Inducted By'] = rnrhof['Inducted By'].str.lower()"
   ]
  },
  {
   "cell_type": "code",
   "execution_count": 7,
   "metadata": {},
   "outputs": [
    {
     "data": {
      "text/html": [
       "<div>\n",
       "<style scoped>\n",
       "    .dataframe tbody tr th:only-of-type {\n",
       "        vertical-align: middle;\n",
       "    }\n",
       "\n",
       "    .dataframe tbody tr th {\n",
       "        vertical-align: top;\n",
       "    }\n",
       "\n",
       "    .dataframe thead th {\n",
       "        text-align: right;\n",
       "    }\n",
       "</style>\n",
       "<table border=\"1\" class=\"dataframe\">\n",
       "  <thead>\n",
       "    <tr style=\"text-align: right;\">\n",
       "      <th></th>\n",
       "      <th>Induction Year</th>\n",
       "      <th>Name</th>\n",
       "      <th>Inducted Members</th>\n",
       "      <th>Inducted By</th>\n",
       "    </tr>\n",
       "  </thead>\n",
       "  <tbody>\n",
       "    <tr>\n",
       "      <th>0</th>\n",
       "      <td>1986</td>\n",
       "      <td>chuck berry</td>\n",
       "      <td>NaN</td>\n",
       "      <td>keith richards</td>\n",
       "    </tr>\n",
       "    <tr>\n",
       "      <th>1</th>\n",
       "      <td>1986</td>\n",
       "      <td>james brown</td>\n",
       "      <td>NaN</td>\n",
       "      <td>steve winwood</td>\n",
       "    </tr>\n",
       "    <tr>\n",
       "      <th>2</th>\n",
       "      <td>1986</td>\n",
       "      <td>ray charles</td>\n",
       "      <td>NaN</td>\n",
       "      <td>quincy jones</td>\n",
       "    </tr>\n",
       "    <tr>\n",
       "      <th>3</th>\n",
       "      <td>1986</td>\n",
       "      <td>sam cooke</td>\n",
       "      <td>NaN</td>\n",
       "      <td>herb alpert</td>\n",
       "    </tr>\n",
       "    <tr>\n",
       "      <th>4</th>\n",
       "      <td>1986</td>\n",
       "      <td>fats domino</td>\n",
       "      <td>NaN</td>\n",
       "      <td>billy joel</td>\n",
       "    </tr>\n",
       "  </tbody>\n",
       "</table>\n",
       "</div>"
      ],
      "text/plain": [
       "   Induction Year         Name Inducted Members       Inducted By\n",
       "0            1986  chuck berry              NaN  keith richards  \n",
       "1            1986  james brown              NaN   steve winwood  \n",
       "2            1986  ray charles              NaN    quincy jones  \n",
       "3            1986    sam cooke              NaN     herb alpert  \n",
       "4            1986  fats domino              NaN      billy joel  "
      ]
     },
     "execution_count": 7,
     "metadata": {},
     "output_type": "execute_result"
    }
   ],
   "source": [
    "rnrhof.head()"
   ]
  },
  {
   "cell_type": "code",
   "execution_count": 13,
   "metadata": {},
   "outputs": [],
   "source": [
    "rnrhof.to_csv('rnrhof2.csv')"
   ]
  },
  {
   "cell_type": "code",
   "execution_count": 11,
   "metadata": {},
   "outputs": [
    {
     "data": {
      "text/plain": [
       "(239, 4)"
      ]
     },
     "execution_count": 11,
     "metadata": {},
     "output_type": "execute_result"
    }
   ],
   "source": [
    "rnrhof.shape"
   ]
  },
  {
   "cell_type": "code",
   "execution_count": 8,
   "metadata": {},
   "outputs": [],
   "source": [
    "lyrics = pd.read_csv('lyric_df2.csv', index_col=0)"
   ]
  },
  {
   "cell_type": "code",
   "execution_count": 14,
   "metadata": {},
   "outputs": [
    {
     "data": {
      "text/html": [
       "<div>\n",
       "<style scoped>\n",
       "    .dataframe tbody tr th:only-of-type {\n",
       "        vertical-align: middle;\n",
       "    }\n",
       "\n",
       "    .dataframe tbody tr th {\n",
       "        vertical-align: top;\n",
       "    }\n",
       "\n",
       "    .dataframe thead th {\n",
       "        text-align: right;\n",
       "    }\n",
       "</style>\n",
       "<table border=\"1\" class=\"dataframe\">\n",
       "  <thead>\n",
       "    <tr style=\"text-align: right;\">\n",
       "      <th></th>\n",
       "      <th>artistname</th>\n",
       "      <th>songtitle</th>\n",
       "      <th>Lyrics</th>\n",
       "    </tr>\n",
       "  </thead>\n",
       "  <tbody>\n",
       "    <tr>\n",
       "      <th>0</th>\n",
       "      <td>kirk franklin</td>\n",
       "      <td>outro (the blood)</td>\n",
       "      <td>you have the power to make the seasons change ...</td>\n",
       "    </tr>\n",
       "    <tr>\n",
       "      <th>1</th>\n",
       "      <td>elvis presley</td>\n",
       "      <td>i feel so bad</td>\n",
       "      <td>feel so bad like a ball game on a rainy day fe...</td>\n",
       "    </tr>\n",
       "    <tr>\n",
       "      <th>2</th>\n",
       "      <td>roy orbison</td>\n",
       "      <td>ooby dooby</td>\n",
       "      <td>hey baby, jump over here when you do the ooby-...</td>\n",
       "    </tr>\n",
       "    <tr>\n",
       "      <th>3</th>\n",
       "      <td>roy orbison</td>\n",
       "      <td>go! go! go!</td>\n",
       "      <td>(ellis/orbison) roy orbison (sun 242, 1956) we...</td>\n",
       "    </tr>\n",
       "    <tr>\n",
       "      <th>4</th>\n",
       "      <td>johnny cash</td>\n",
       "      <td>get rhythm</td>\n",
       "      <td>hey, get rhythm! when you get the blues! c'mon...</td>\n",
       "    </tr>\n",
       "  </tbody>\n",
       "</table>\n",
       "</div>"
      ],
      "text/plain": [
       "      artistname          songtitle  \\\n",
       "0  kirk franklin  outro (the blood)   \n",
       "1  elvis presley      i feel so bad   \n",
       "2    roy orbison         ooby dooby   \n",
       "3    roy orbison        go! go! go!   \n",
       "4    johnny cash         get rhythm   \n",
       "\n",
       "                                              Lyrics  \n",
       "0  you have the power to make the seasons change ...  \n",
       "1  feel so bad like a ball game on a rainy day fe...  \n",
       "2  hey baby, jump over here when you do the ooby-...  \n",
       "3  (ellis/orbison) roy orbison (sun 242, 1956) we...  \n",
       "4  hey, get rhythm! when you get the blues! c'mon...  "
      ]
     },
     "execution_count": 14,
     "metadata": {},
     "output_type": "execute_result"
    }
   ],
   "source": [
    "lyrics.head()"
   ]
  },
  {
   "cell_type": "code",
   "execution_count": 13,
   "metadata": {},
   "outputs": [
    {
     "data": {
      "text/html": [
       "<div>\n",
       "<style scoped>\n",
       "    .dataframe tbody tr th:only-of-type {\n",
       "        vertical-align: middle;\n",
       "    }\n",
       "\n",
       "    .dataframe tbody tr th {\n",
       "        vertical-align: top;\n",
       "    }\n",
       "\n",
       "    .dataframe thead th {\n",
       "        text-align: right;\n",
       "    }\n",
       "</style>\n",
       "<table border=\"1\" class=\"dataframe\">\n",
       "  <thead>\n",
       "    <tr style=\"text-align: right;\">\n",
       "      <th></th>\n",
       "      <th>Artist Name</th>\n",
       "      <th>Song Title</th>\n",
       "      <th>Lyrics</th>\n",
       "    </tr>\n",
       "  </thead>\n",
       "  <tbody>\n",
       "    <tr>\n",
       "      <th>0</th>\n",
       "      <td>kirk franklin</td>\n",
       "      <td>outro (the blood)</td>\n",
       "      <td>you have the power to make the seasons change ...</td>\n",
       "    </tr>\n",
       "    <tr>\n",
       "      <th>1</th>\n",
       "      <td>elvis presley</td>\n",
       "      <td>i feel so bad</td>\n",
       "      <td>feel so bad like a ball game on a rainy day fe...</td>\n",
       "    </tr>\n",
       "    <tr>\n",
       "      <th>2</th>\n",
       "      <td>roy orbison</td>\n",
       "      <td>ooby dooby</td>\n",
       "      <td>hey baby, jump over here when you do the ooby-...</td>\n",
       "    </tr>\n",
       "    <tr>\n",
       "      <th>3</th>\n",
       "      <td>roy orbison</td>\n",
       "      <td>go! go! go!</td>\n",
       "      <td>(ellis/orbison) roy orbison (sun 242, 1956) we...</td>\n",
       "    </tr>\n",
       "    <tr>\n",
       "      <th>4</th>\n",
       "      <td>johnny cash</td>\n",
       "      <td>get rhythm</td>\n",
       "      <td>hey, get rhythm! when you get the blues! c'mon...</td>\n",
       "    </tr>\n",
       "  </tbody>\n",
       "</table>\n",
       "</div>"
      ],
      "text/plain": [
       "     Artist Name         Song Title  \\\n",
       "0  kirk franklin  outro (the blood)   \n",
       "1  elvis presley      i feel so bad   \n",
       "2    roy orbison         ooby dooby   \n",
       "3    roy orbison        go! go! go!   \n",
       "4    johnny cash         get rhythm   \n",
       "\n",
       "                                              Lyrics  \n",
       "0  you have the power to make the seasons change ...  \n",
       "1  feel so bad like a ball game on a rainy day fe...  \n",
       "2  hey baby, jump over here when you do the ooby-...  \n",
       "3  (ellis/orbison) roy orbison (sun 242, 1956) we...  \n",
       "4  hey, get rhythm! when you get the blues! c'mon...  "
      ]
     },
     "execution_count": 13,
     "metadata": {},
     "output_type": "execute_result"
    }
   ],
   "source": [
    "df.head()"
   ]
  },
  {
   "cell_type": "code",
   "execution_count": null,
   "metadata": {},
   "outputs": [],
   "source": []
  }
 ],
 "metadata": {
  "kernelspec": {
   "display_name": "Python 3",
   "language": "python",
   "name": "python3"
  },
  "language_info": {
   "codemirror_mode": {
    "name": "ipython",
    "version": 3
   },
   "file_extension": ".py",
   "mimetype": "text/x-python",
   "name": "python",
   "nbconvert_exporter": "python",
   "pygments_lexer": "ipython3",
   "version": "3.8.8"
  }
 },
 "nbformat": 4,
 "nbformat_minor": 4
}
