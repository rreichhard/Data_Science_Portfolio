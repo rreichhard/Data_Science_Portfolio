{
 "cells": [
  {
   "cell_type": "code",
   "execution_count": 11,
   "id": "1193fb22-63a0-4dd8-9f3b-eb0f1fc15f2f",
   "metadata": {},
   "outputs": [],
   "source": [
    "# Import Libraries\n",
    "\n",
    "import pandas as pd\n",
    "import numpy as np\n",
    "import string\n",
    "import re\n",
    "import requests\n",
    "import os\n",
    "import json\n",
    "import twitter\n",
    "import tweepy\n",
    "from pandas.io.json import json_normalize\n",
    "from sklearn.feature_extraction.text import CountVectorizer\n",
    "import nltk\n",
    "from nltk.corpus import stopwords\n",
    "from nltk.tokenize import word_tokenize\n",
    "from nltk.stem.porter import PorterStemmer\n",
    "from sklearn.feature_extraction.text import TfidfVectorizer\n",
    "from sklearn.model_selection import train_test_split\n",
    "from imblearn.over_sampling import SMOTE\n",
    "from collections import Counter\n",
    "from matplotlib import pyplot\n",
    "from sklearn.ensemble import RandomForestClassifier\n",
    "from sklearn.metrics import classification_report, confusion_matrix, accuracy_score\n",
    "from sklearn.metrics import roc_auc_score\n",
    "from sklearn import naive_bayes\n",
    "import matplotlib.pyplot as plt\n",
    "from vaderSentiment.vaderSentiment import SentimentIntensityAnalyzer"
   ]
  },
  {
   "cell_type": "markdown",
   "id": "0aedd362",
   "metadata": {},
   "source": [
    "# Collecting Data to Analyze from Twitter"
   ]
  },
  {
   "cell_type": "code",
   "execution_count": 12,
   "id": "5118ae91-d974-476a-8a47-6a17515ae9a8",
   "metadata": {},
   "outputs": [],
   "source": [
    "# function to take the tweepy objects and convert them to json\n",
    "\n",
    "def jsonify_tweepy(tweepy_object):\n",
    "    json_str = json.dumps(tweepy_object._json)\n",
    "    return json.loads(json_str)\n",
    "\n",
    "# set my api data as strings for building the full url\n",
    "\n",
    "API_key = 'XXXX'\n",
    "API_secret = 'XXXX'\n",
    "bearer_token = 'XXXX'\n",
    "access_token = 'XXXX'\n",
    "access_secret = 'XXXX'\n",
    "auth = tweepy.OAuthHandler(API_key, API_secret)\n",
    "auth.set_access_token(access_token, access_secret)\n",
    "tweepy_api = tweepy.API(auth, wait_on_rate_limit=True)"
   ]
  },
  {
   "cell_type": "code",
   "execution_count": 27,
   "id": "8eef5e61-2ade-4814-bca7-7184fccc0a97",
   "metadata": {},
   "outputs": [],
   "source": [
    "# Selecting a hashtag to search twitter for online payment hashtags and choosing the most recent 5000\n",
    "\n",
    "h = ('@amazon')\n",
    "tweets=list(tweepy.Cursor(tweepy_api.search_tweets,q=h, tweet_mode='extended').items(5000))\n",
    "tweet_list = [jsonify_tweepy(t) for t in tweets]\n",
    "df_amz = pd.json_normalize(tweet_list)"
   ]
  },
  {
   "cell_type": "code",
   "execution_count": 29,
   "id": "0645fb45-054c-46b2-845e-61267c4ea732",
   "metadata": {},
   "outputs": [],
   "source": [
    "# Taking the various dataframes made in the previous cell and concatenating them\n",
    "\n",
    "frames = [df_amz,\n",
    "df_ebay,\n",
    "df_pp,\n",
    "df_pp2,\n",
    "df_pp3,\n",
    "df_vm,\n",
    "df_vm2,\n",
    "df_vm3]\n",
    "df_combined = pd.concat(frames)"
   ]
  },
  {
   "cell_type": "code",
   "execution_count": 30,
   "id": "8774419c-310c-4684-8f5e-c7fe3eb1f3fc",
   "metadata": {},
   "outputs": [
    {
     "data": {
      "text/plain": [
       "(7919, 340)"
      ]
     },
     "execution_count": 30,
     "metadata": {},
     "output_type": "execute_result"
    }
   ],
   "source": [
    "# Checking the shape of the concatenated finished dataframe\n",
    "\n",
    "df_combined.shape"
   ]
  },
  {
   "cell_type": "code",
   "execution_count": 31,
   "id": "c09964bf-e69d-4597-b3ca-d54f9bb311f1",
   "metadata": {},
   "outputs": [],
   "source": [
    "# Only keeping the fields from the Twitter API that are relevant to this project\n",
    "\n",
    "df_slim = df_combined[['created_at','full_text','source','lang']]\n",
    "df_slim = df_slim[df_slim['lang'] == 'en'] # English only"
   ]
  },
  {
   "cell_type": "code",
   "execution_count": 32,
   "id": "5f89b6b1-e537-4c5d-9866-8fe1385cc22d",
   "metadata": {},
   "outputs": [],
   "source": [
    "# Saving this new dataframe as a CSV to use in the next step instead of using the same dataframe\n",
    "\n",
    "df_slim.to_csv('Pre_clean_Tweets.csv',encoding='utf-8',index=False)"
   ]
  },
  {
   "cell_type": "code",
   "execution_count": 13,
   "id": "02f2e607-1b8b-41e9-b3e4-894928ee37b8",
   "metadata": {},
   "outputs": [
    {
     "data": {
      "text/html": [
       "<div>\n",
       "<style scoped>\n",
       "    .dataframe tbody tr th:only-of-type {\n",
       "        vertical-align: middle;\n",
       "    }\n",
       "\n",
       "    .dataframe tbody tr th {\n",
       "        vertical-align: top;\n",
       "    }\n",
       "\n",
       "    .dataframe thead th {\n",
       "        text-align: right;\n",
       "    }\n",
       "</style>\n",
       "<table border=\"1\" class=\"dataframe\">\n",
       "  <thead>\n",
       "    <tr style=\"text-align: right;\">\n",
       "      <th></th>\n",
       "      <th>created_at</th>\n",
       "      <th>full_text</th>\n",
       "      <th>source</th>\n",
       "      <th>lang</th>\n",
       "    </tr>\n",
       "  </thead>\n",
       "  <tbody>\n",
       "    <tr>\n",
       "      <th>0</th>\n",
       "      <td>Tue Nov 16 15:26:22 +0000 2021</td>\n",
       "      <td>@AmazonHelp @amazon  - What is going on with P...</td>\n",
       "      <td>&lt;a href=\"https://mobile.twitter.com\" rel=\"nofo...</td>\n",
       "      <td>en</td>\n",
       "    </tr>\n",
       "    <tr>\n",
       "      <th>1</th>\n",
       "      <td>Tue Nov 16 15:26:21 +0000 2021</td>\n",
       "      <td>RT @ShibaInuHodler: Buy #Shib before @Amazon a...</td>\n",
       "      <td>&lt;a href=\"http://twitter.com/download/android\" ...</td>\n",
       "      <td>en</td>\n",
       "    </tr>\n",
       "    <tr>\n",
       "      <th>2</th>\n",
       "      <td>Tue Nov 16 15:26:21 +0000 2021</td>\n",
       "      <td>Gone to Pot: Welcome to the Shit Show: 7 Dirty...</td>\n",
       "      <td>&lt;a href=\"https://mobile.twitter.com\" rel=\"nofo...</td>\n",
       "      <td>en</td>\n",
       "    </tr>\n",
       "    <tr>\n",
       "      <th>3</th>\n",
       "      <td>Tue Nov 16 15:26:18 +0000 2021</td>\n",
       "      <td>@ShibaInuHodler @amazon Any news update of thi...</td>\n",
       "      <td>&lt;a href=\"http://twitter.com/download/android\" ...</td>\n",
       "      <td>en</td>\n",
       "    </tr>\n",
       "    <tr>\n",
       "      <th>4</th>\n",
       "      <td>Tue Nov 16 15:26:16 +0000 2021</td>\n",
       "      <td>RT @ShibaInuHodler: Buy #Shib before @Amazon a...</td>\n",
       "      <td>&lt;a href=\"http://twitter.com/download/android\" ...</td>\n",
       "      <td>en</td>\n",
       "    </tr>\n",
       "  </tbody>\n",
       "</table>\n",
       "</div>"
      ],
      "text/plain": [
       "                       created_at  \\\n",
       "0  Tue Nov 16 15:26:22 +0000 2021   \n",
       "1  Tue Nov 16 15:26:21 +0000 2021   \n",
       "2  Tue Nov 16 15:26:21 +0000 2021   \n",
       "3  Tue Nov 16 15:26:18 +0000 2021   \n",
       "4  Tue Nov 16 15:26:16 +0000 2021   \n",
       "\n",
       "                                           full_text  \\\n",
       "0  @AmazonHelp @amazon  - What is going on with P...   \n",
       "1  RT @ShibaInuHodler: Buy #Shib before @Amazon a...   \n",
       "2  Gone to Pot: Welcome to the Shit Show: 7 Dirty...   \n",
       "3  @ShibaInuHodler @amazon Any news update of thi...   \n",
       "4  RT @ShibaInuHodler: Buy #Shib before @Amazon a...   \n",
       "\n",
       "                                              source lang  \n",
       "0  <a href=\"https://mobile.twitter.com\" rel=\"nofo...   en  \n",
       "1  <a href=\"http://twitter.com/download/android\" ...   en  \n",
       "2  <a href=\"https://mobile.twitter.com\" rel=\"nofo...   en  \n",
       "3  <a href=\"http://twitter.com/download/android\" ...   en  \n",
       "4  <a href=\"http://twitter.com/download/android\" ...   en  "
      ]
     },
     "execution_count": 13,
     "metadata": {},
     "output_type": "execute_result"
    }
   ],
   "source": [
    "# Import the Tweet Data\n",
    "\n",
    "df = pd.read_csv('Pre_clean_Tweets.csv')\n",
    "df.head()"
   ]
  },
  {
   "cell_type": "markdown",
   "id": "fa1d1eac",
   "metadata": {},
   "source": [
    "# Graphical Analysis & Data Exploration"
   ]
  },
  {
   "cell_type": "code",
   "execution_count": 14,
   "id": "f769f254-eb5d-4d2b-a7b0-3abfe73f0e5d",
   "metadata": {},
   "outputs": [],
   "source": [
    "# functions to help cleanup text\n",
    "\n",
    "def clean_text(text):\n",
    "    text=text.lower()\n",
    "    text=re.sub('\\\\d|\\\\W+|_',' ',text)\n",
    "    text=re.sub('[^a-zA-Z]',\" \", text)\n",
    "    \n",
    "    return text\n",
    "\n",
    "def tokenize(text):\n",
    "    stop_words = stopwords.words('english') + ADDITIONAL_STOPWORDS\n",
    "    txt_token= word_tokenize(text)\n",
    "    txt_no_stopwords = [word for word in txt_token if word not in stop_words]\n",
    "    \n",
    "    return txt_no_stopwords\n",
    "\n",
    "ADDITIONAL_STOPWORDS = ['paypal','venmo','zelle','cashapp', 'amazon', 'amazonhelp', 'ebay', 'http']\n",
    "\n",
    "\n",
    "def stem_text(word_list):\n",
    "    porter = PorterStemmer()\n",
    "    \n",
    "    return [porter.stem(word) for word in word_list]\n",
    "\n",
    "def vadersentimentanalysis(review):\n",
    "    vs = analyzer.polarity_scores(review) # calculating the polarity scores for each doc in the corpus\n",
    "    return vs['compound'] # returning the compound score\n",
    "    \n",
    "    \n",
    "def vader_analysis(compound): # setting thresholds for what compound scores are considered positive, negative, or neutral\n",
    "    if compound >=0.5:\n",
    "        return 'Positive'\n",
    "    elif compound <0:\n",
    "        return 'Negative'\n",
    "    else:\n",
    "        return 'Neutral'\n",
    "    \n",
    "def basic_clean(text):\n",
    "  wnl = nltk.stem.WordNetLemmatizer()\n",
    "  stopwords = nltk.corpus.stopwords.words('english') + ADDITIONAL_STOPWORDS\n",
    "  words = re.sub(r'[^\\w\\s]', '', text).split()\n",
    "  return [wnl.lemmatize(word) for word in words if word not in stopwords]"
   ]
  },
  {
   "cell_type": "code",
   "execution_count": 15,
   "id": "34ee46fe-3ef0-4339-ac32-faaa2e0c0097",
   "metadata": {},
   "outputs": [],
   "source": [
    "# Take the variable \"source\" and create a new column finding where the greater-than symbol is\n",
    "# then take that and use it to slice out the last bit of the phrase (we only want the part that says \"twitter for iphone\", etc)\n",
    "\n",
    "df['pos'] = df['source'].str.find('\">')\n",
    "df['new_var'] = df.apply(lambda x: x['source'][x['pos']:],axis=1)"
   ]
  },
  {
   "cell_type": "code",
   "execution_count": 16,
   "id": "8a48aa3e-c0a4-4193-afeb-a3cc2d369a65",
   "metadata": {},
   "outputs": [],
   "source": [
    "# clean the source text\n",
    "\n",
    "df['almost_sources'] = df['new_var'].apply(clean_text)"
   ]
  },
  {
   "cell_type": "code",
   "execution_count": 17,
   "id": "9c9ea7df-bdd2-48f0-a733-ece399440032",
   "metadata": {},
   "outputs": [],
   "source": [
    "# slice off the last 3 characters because they are all \"_a\"\n",
    "\n",
    "df['final_sources'] = df.almost_sources.str[1:-3]"
   ]
  },
  {
   "cell_type": "code",
   "execution_count": 18,
   "id": "f89b3cec-6a3a-47c9-b045-308ae0998295",
   "metadata": {},
   "outputs": [],
   "source": [
    "# Wanting to just look at the sources of the tweets I am grouping them by their source, sorting the values, only keeping the top 5 most frequent, and resetting the index.\n",
    "\n",
    "source_df = df.groupby(['final_sources']).size().to_frame().sort_values([0], ascending=False).head(5).reset_index()\n",
    "source_df.columns = ['sources','count']"
   ]
  },
  {
   "cell_type": "code",
   "execution_count": 19,
   "id": "e38fec4a-87d1-43f9-b59b-8d2ffee3bc8d",
   "metadata": {},
   "outputs": [
    {
     "data": {
      "text/html": [
       "<div>\n",
       "<style scoped>\n",
       "    .dataframe tbody tr th:only-of-type {\n",
       "        vertical-align: middle;\n",
       "    }\n",
       "\n",
       "    .dataframe tbody tr th {\n",
       "        vertical-align: top;\n",
       "    }\n",
       "\n",
       "    .dataframe thead th {\n",
       "        text-align: right;\n",
       "    }\n",
       "</style>\n",
       "<table border=\"1\" class=\"dataframe\">\n",
       "  <thead>\n",
       "    <tr style=\"text-align: right;\">\n",
       "      <th></th>\n",
       "      <th>sources</th>\n",
       "      <th>count</th>\n",
       "    </tr>\n",
       "  </thead>\n",
       "  <tbody>\n",
       "    <tr>\n",
       "      <th>0</th>\n",
       "      <td>twitter web app</td>\n",
       "      <td>3700</td>\n",
       "    </tr>\n",
       "    <tr>\n",
       "      <th>1</th>\n",
       "      <td>twitter for iphone</td>\n",
       "      <td>2033</td>\n",
       "    </tr>\n",
       "    <tr>\n",
       "      <th>2</th>\n",
       "      <td>twitter for android</td>\n",
       "      <td>873</td>\n",
       "    </tr>\n",
       "    <tr>\n",
       "      <th>3</th>\n",
       "      <td>twitter for ipad</td>\n",
       "      <td>229</td>\n",
       "    </tr>\n",
       "    <tr>\n",
       "      <th>4</th>\n",
       "      <td>tweetdeck</td>\n",
       "      <td>92</td>\n",
       "    </tr>\n",
       "  </tbody>\n",
       "</table>\n",
       "</div>"
      ],
      "text/plain": [
       "               sources  count\n",
       "0      twitter web app   3700\n",
       "1   twitter for iphone   2033\n",
       "2  twitter for android    873\n",
       "3     twitter for ipad    229\n",
       "4            tweetdeck     92"
      ]
     },
     "execution_count": 19,
     "metadata": {},
     "output_type": "execute_result"
    }
   ],
   "source": [
    "source_df"
   ]
  },
  {
   "cell_type": "code",
   "execution_count": 20,
   "id": "91a99fad-65ed-4583-ae2f-1fa6e5782635",
   "metadata": {},
   "outputs": [
    {
     "data": {
      "image/png": "[encoded data removed]",
      "text/plain": [
       "<Figure size 720x360 with 1 Axes>"
      ]
     },
     "metadata": {
      "needs_background": "light"
     },
     "output_type": "display_data"
    }
   ],
   "source": [
    "# This bar chart shows that by far & away, most of the tweets were generated on the twitter web app, not on a mobile device\n",
    "\n",
    "fig = plt.figure(figsize=(10,5))\n",
    "plt.barh(source_df['sources'], source_df['count'], color='maroon')\n",
    "plt.xlabel('Number of Uses', fontsize=18)\n",
    "plt.ylabel('Tweet Source', fontsize=18)\n",
    "plt.title('Top 5 Most Common Tweet Sources', fontsize=20)\n",
    "plt.show()"
   ]
  },
  {
   "cell_type": "code",
   "execution_count": 21,
   "id": "954f0075-a0a5-4962-bd0d-d305e8703ba3",
   "metadata": {},
   "outputs": [],
   "source": [
    "# apply the cleaning, tokenizing, & stemming\n",
    "\n",
    "df['txt_clean'] = df['full_text'].apply(clean_text)\n",
    "df['txt_tokenized'] = df['txt_clean'].apply(tokenize)\n",
    "df['txt_stemmed'] = df['txt_tokenized'].apply(stem_text)\n",
    "df['text_final'] = df['txt_stemmed'].apply(lambda text: ' '.join(text))"
   ]
  },
  {
   "cell_type": "code",
   "execution_count": 22,
   "id": "20c63bf9-e418-4c97-b90f-5a3ef47b4ea3",
   "metadata": {},
   "outputs": [
    {
     "data": {
      "text/html": [
       "<div>\n",
       "<style scoped>\n",
       "    .dataframe tbody tr th:only-of-type {\n",
       "        vertical-align: middle;\n",
       "    }\n",
       "\n",
       "    .dataframe tbody tr th {\n",
       "        vertical-align: top;\n",
       "    }\n",
       "\n",
       "    .dataframe thead th {\n",
       "        text-align: right;\n",
       "    }\n",
       "</style>\n",
       "<table border=\"1\" class=\"dataframe\">\n",
       "  <thead>\n",
       "    <tr style=\"text-align: right;\">\n",
       "      <th></th>\n",
       "      <th>created_at</th>\n",
       "      <th>full_text</th>\n",
       "      <th>source</th>\n",
       "      <th>lang</th>\n",
       "      <th>pos</th>\n",
       "      <th>new_var</th>\n",
       "      <th>almost_sources</th>\n",
       "      <th>final_sources</th>\n",
       "      <th>txt_clean</th>\n",
       "      <th>txt_tokenized</th>\n",
       "      <th>txt_stemmed</th>\n",
       "      <th>text_final</th>\n",
       "    </tr>\n",
       "  </thead>\n",
       "  <tbody>\n",
       "    <tr>\n",
       "      <th>0</th>\n",
       "      <td>Tue Nov 16 15:26:22 +0000 2021</td>\n",
       "      <td>@AmazonHelp @amazon  - What is going on with P...</td>\n",
       "      <td>&lt;a href=\"https://mobile.twitter.com\" rel=\"nofo...</td>\n",
       "      <td>en</td>\n",
       "      <td>50</td>\n",
       "      <td>\"&gt;Twitter Web App&lt;/a&gt;</td>\n",
       "      <td>twitter web app a</td>\n",
       "      <td>twitter web app</td>\n",
       "      <td>amazonhelp amazon what is going on with picku...</td>\n",
       "      <td>[going, pickup, tracking, id, order, bajaj, ne...</td>\n",
       "      <td>[go, pickup, track, id, order, bajaj, new, sha...</td>\n",
       "      <td>go pickup track id order bajaj new shakti neo ...</td>\n",
       "    </tr>\n",
       "    <tr>\n",
       "      <th>1</th>\n",
       "      <td>Tue Nov 16 15:26:21 +0000 2021</td>\n",
       "      <td>RT @ShibaInuHodler: Buy #Shib before @Amazon a...</td>\n",
       "      <td>&lt;a href=\"http://twitter.com/download/android\" ...</td>\n",
       "      <td>en</td>\n",
       "      <td>59</td>\n",
       "      <td>\"&gt;Twitter for Android&lt;/a&gt;</td>\n",
       "      <td>twitter for android a</td>\n",
       "      <td>twitter for android</td>\n",
       "      <td>rt shibainuhodler buy shib before amazon annou...</td>\n",
       "      <td>[rt, shibainuhodler, buy, shib, announces]</td>\n",
       "      <td>[rt, shibainuhodl, buy, shib, announc]</td>\n",
       "      <td>rt shibainuhodl buy shib announc</td>\n",
       "    </tr>\n",
       "    <tr>\n",
       "      <th>2</th>\n",
       "      <td>Tue Nov 16 15:26:21 +0000 2021</td>\n",
       "      <td>Gone to Pot: Welcome to the Shit Show: 7 Dirty...</td>\n",
       "      <td>&lt;a href=\"https://mobile.twitter.com\" rel=\"nofo...</td>\n",
       "      <td>en</td>\n",
       "      <td>50</td>\n",
       "      <td>\"&gt;Twitter Web App&lt;/a&gt;</td>\n",
       "      <td>twitter web app a</td>\n",
       "      <td>twitter web app</td>\n",
       "      <td>gone to pot welcome to the shit show   dirty l...</td>\n",
       "      <td>[gone, pot, welcome, shit, show, dirty, little...</td>\n",
       "      <td>[gone, pot, welcom, shit, show, dirti, littl, ...</td>\n",
       "      <td>gone pot welcom shit show dirti littl secret c...</td>\n",
       "    </tr>\n",
       "    <tr>\n",
       "      <th>3</th>\n",
       "      <td>Tue Nov 16 15:26:18 +0000 2021</td>\n",
       "      <td>@ShibaInuHodler @amazon Any news update of thi...</td>\n",
       "      <td>&lt;a href=\"http://twitter.com/download/android\" ...</td>\n",
       "      <td>en</td>\n",
       "      <td>59</td>\n",
       "      <td>\"&gt;Twitter for Android&lt;/a&gt;</td>\n",
       "      <td>twitter for android a</td>\n",
       "      <td>twitter for android</td>\n",
       "      <td>shibainuhodler amazon any news update of this</td>\n",
       "      <td>[shibainuhodler, news, update]</td>\n",
       "      <td>[shibainuhodl, news, updat]</td>\n",
       "      <td>shibainuhodl news updat</td>\n",
       "    </tr>\n",
       "    <tr>\n",
       "      <th>4</th>\n",
       "      <td>Tue Nov 16 15:26:16 +0000 2021</td>\n",
       "      <td>RT @ShibaInuHodler: Buy #Shib before @Amazon a...</td>\n",
       "      <td>&lt;a href=\"http://twitter.com/download/android\" ...</td>\n",
       "      <td>en</td>\n",
       "      <td>59</td>\n",
       "      <td>\"&gt;Twitter for Android&lt;/a&gt;</td>\n",
       "      <td>twitter for android a</td>\n",
       "      <td>twitter for android</td>\n",
       "      <td>rt shibainuhodler buy shib before amazon annou...</td>\n",
       "      <td>[rt, shibainuhodler, buy, shib, announces]</td>\n",
       "      <td>[rt, shibainuhodl, buy, shib, announc]</td>\n",
       "      <td>rt shibainuhodl buy shib announc</td>\n",
       "    </tr>\n",
       "  </tbody>\n",
       "</table>\n",
       "</div>"
      ],
      "text/plain": [
       "                       created_at  \\\n",
       "0  Tue Nov 16 15:26:22 +0000 2021   \n",
       "1  Tue Nov 16 15:26:21 +0000 2021   \n",
       "2  Tue Nov 16 15:26:21 +0000 2021   \n",
       "3  Tue Nov 16 15:26:18 +0000 2021   \n",
       "4  Tue Nov 16 15:26:16 +0000 2021   \n",
       "\n",
       "                                           full_text  \\\n",
       "0  @AmazonHelp @amazon  - What is going on with P...   \n",
       "1  RT @ShibaInuHodler: Buy #Shib before @Amazon a...   \n",
       "2  Gone to Pot: Welcome to the Shit Show: 7 Dirty...   \n",
       "3  @ShibaInuHodler @amazon Any news update of thi...   \n",
       "4  RT @ShibaInuHodler: Buy #Shib before @Amazon a...   \n",
       "\n",
       "                                              source lang  pos  \\\n",
       "0  <a href=\"https://mobile.twitter.com\" rel=\"nofo...   en   50   \n",
       "1  <a href=\"http://twitter.com/download/android\" ...   en   59   \n",
       "2  <a href=\"https://mobile.twitter.com\" rel=\"nofo...   en   50   \n",
       "3  <a href=\"http://twitter.com/download/android\" ...   en   59   \n",
       "4  <a href=\"http://twitter.com/download/android\" ...   en   59   \n",
       "\n",
       "                     new_var           almost_sources        final_sources  \\\n",
       "0      \">Twitter Web App</a>       twitter web app a       twitter web app   \n",
       "1  \">Twitter for Android</a>   twitter for android a   twitter for android   \n",
       "2      \">Twitter Web App</a>       twitter web app a       twitter web app   \n",
       "3  \">Twitter for Android</a>   twitter for android a   twitter for android   \n",
       "4  \">Twitter for Android</a>   twitter for android a   twitter for android   \n",
       "\n",
       "                                           txt_clean  \\\n",
       "0   amazonhelp amazon what is going on with picku...   \n",
       "1  rt shibainuhodler buy shib before amazon annou...   \n",
       "2  gone to pot welcome to the shit show   dirty l...   \n",
       "3     shibainuhodler amazon any news update of this    \n",
       "4  rt shibainuhodler buy shib before amazon annou...   \n",
       "\n",
       "                                       txt_tokenized  \\\n",
       "0  [going, pickup, tracking, id, order, bajaj, ne...   \n",
       "1         [rt, shibainuhodler, buy, shib, announces]   \n",
       "2  [gone, pot, welcome, shit, show, dirty, little...   \n",
       "3                     [shibainuhodler, news, update]   \n",
       "4         [rt, shibainuhodler, buy, shib, announces]   \n",
       "\n",
       "                                         txt_stemmed  \\\n",
       "0  [go, pickup, track, id, order, bajaj, new, sha...   \n",
       "1             [rt, shibainuhodl, buy, shib, announc]   \n",
       "2  [gone, pot, welcom, shit, show, dirti, littl, ...   \n",
       "3                        [shibainuhodl, news, updat]   \n",
       "4             [rt, shibainuhodl, buy, shib, announc]   \n",
       "\n",
       "                                          text_final  \n",
       "0  go pickup track id order bajaj new shakti neo ...  \n",
       "1                   rt shibainuhodl buy shib announc  \n",
       "2  gone pot welcom shit show dirti littl secret c...  \n",
       "3                            shibainuhodl news updat  \n",
       "4                   rt shibainuhodl buy shib announc  "
      ]
     },
     "execution_count": 22,
     "metadata": {},
     "output_type": "execute_result"
    }
   ],
   "source": [
    "df.head()"
   ]
  },
  {
   "cell_type": "code",
   "execution_count": 23,
   "id": "b6c0a1c9-1835-4756-ae1a-8b989bc7a63f",
   "metadata": {},
   "outputs": [],
   "source": [
    "# Saving all these transformations so I don't have to do them again\n",
    "\n",
    "df.to_csv('Post_clean_Tweets.csv',encoding='utf-8',index=False)"
   ]
  },
  {
   "cell_type": "code",
   "execution_count": 24,
   "id": "7ff82e85-db33-45d7-a5c1-f7b3105117b9",
   "metadata": {},
   "outputs": [
    {
     "data": {
      "text/html": [
       "<div>\n",
       "<style scoped>\n",
       "    .dataframe tbody tr th:only-of-type {\n",
       "        vertical-align: middle;\n",
       "    }\n",
       "\n",
       "    .dataframe tbody tr th {\n",
       "        vertical-align: top;\n",
       "    }\n",
       "\n",
       "    .dataframe thead th {\n",
       "        text-align: right;\n",
       "    }\n",
       "</style>\n",
       "<table border=\"1\" class=\"dataframe\">\n",
       "  <thead>\n",
       "    <tr style=\"text-align: right;\">\n",
       "      <th></th>\n",
       "      <th>created_at</th>\n",
       "      <th>full_text</th>\n",
       "      <th>source</th>\n",
       "      <th>lang</th>\n",
       "      <th>pos</th>\n",
       "      <th>new_var</th>\n",
       "      <th>almost_sources</th>\n",
       "      <th>final_sources</th>\n",
       "      <th>txt_clean</th>\n",
       "      <th>txt_tokenized</th>\n",
       "      <th>txt_stemmed</th>\n",
       "      <th>text_final</th>\n",
       "    </tr>\n",
       "  </thead>\n",
       "  <tbody>\n",
       "    <tr>\n",
       "      <th>0</th>\n",
       "      <td>Tue Nov 16 15:26:22 +0000 2021</td>\n",
       "      <td>@AmazonHelp @amazon  - What is going on with P...</td>\n",
       "      <td>&lt;a href=\"https://mobile.twitter.com\" rel=\"nofo...</td>\n",
       "      <td>en</td>\n",
       "      <td>50</td>\n",
       "      <td>\"&gt;Twitter Web App&lt;/a&gt;</td>\n",
       "      <td>twitter web app a</td>\n",
       "      <td>twitter web app</td>\n",
       "      <td>amazonhelp amazon what is going on with picku...</td>\n",
       "      <td>['going', 'pickup', 'tracking', 'id', 'order',...</td>\n",
       "      <td>['go', 'pickup', 'track', 'id', 'order', 'baja...</td>\n",
       "      <td>go pickup track id order bajaj new shakti neo ...</td>\n",
       "    </tr>\n",
       "    <tr>\n",
       "      <th>1</th>\n",
       "      <td>Tue Nov 16 15:26:21 +0000 2021</td>\n",
       "      <td>RT @ShibaInuHodler: Buy #Shib before @Amazon a...</td>\n",
       "      <td>&lt;a href=\"http://twitter.com/download/android\" ...</td>\n",
       "      <td>en</td>\n",
       "      <td>59</td>\n",
       "      <td>\"&gt;Twitter for Android&lt;/a&gt;</td>\n",
       "      <td>twitter for android a</td>\n",
       "      <td>twitter for android</td>\n",
       "      <td>rt shibainuhodler buy shib before amazon annou...</td>\n",
       "      <td>['rt', 'shibainuhodler', 'buy', 'shib', 'annou...</td>\n",
       "      <td>['rt', 'shibainuhodl', 'buy', 'shib', 'announc']</td>\n",
       "      <td>rt shibainuhodl buy shib announc</td>\n",
       "    </tr>\n",
       "    <tr>\n",
       "      <th>2</th>\n",
       "      <td>Tue Nov 16 15:26:21 +0000 2021</td>\n",
       "      <td>Gone to Pot: Welcome to the Shit Show: 7 Dirty...</td>\n",
       "      <td>&lt;a href=\"https://mobile.twitter.com\" rel=\"nofo...</td>\n",
       "      <td>en</td>\n",
       "      <td>50</td>\n",
       "      <td>\"&gt;Twitter Web App&lt;/a&gt;</td>\n",
       "      <td>twitter web app a</td>\n",
       "      <td>twitter web app</td>\n",
       "      <td>gone to pot welcome to the shit show   dirty l...</td>\n",
       "      <td>['gone', 'pot', 'welcome', 'shit', 'show', 'di...</td>\n",
       "      <td>['gone', 'pot', 'welcom', 'shit', 'show', 'dir...</td>\n",
       "      <td>gone pot welcom shit show dirti littl secret c...</td>\n",
       "    </tr>\n",
       "    <tr>\n",
       "      <th>3</th>\n",
       "      <td>Tue Nov 16 15:26:18 +0000 2021</td>\n",
       "      <td>@ShibaInuHodler @amazon Any news update of thi...</td>\n",
       "      <td>&lt;a href=\"http://twitter.com/download/android\" ...</td>\n",
       "      <td>en</td>\n",
       "      <td>59</td>\n",
       "      <td>\"&gt;Twitter for Android&lt;/a&gt;</td>\n",
       "      <td>twitter for android a</td>\n",
       "      <td>twitter for android</td>\n",
       "      <td>shibainuhodler amazon any news update of this</td>\n",
       "      <td>['shibainuhodler', 'news', 'update']</td>\n",
       "      <td>['shibainuhodl', 'news', 'updat']</td>\n",
       "      <td>shibainuhodl news updat</td>\n",
       "    </tr>\n",
       "    <tr>\n",
       "      <th>4</th>\n",
       "      <td>Tue Nov 16 15:26:16 +0000 2021</td>\n",
       "      <td>RT @ShibaInuHodler: Buy #Shib before @Amazon a...</td>\n",
       "      <td>&lt;a href=\"http://twitter.com/download/android\" ...</td>\n",
       "      <td>en</td>\n",
       "      <td>59</td>\n",
       "      <td>\"&gt;Twitter for Android&lt;/a&gt;</td>\n",
       "      <td>twitter for android a</td>\n",
       "      <td>twitter for android</td>\n",
       "      <td>rt shibainuhodler buy shib before amazon annou...</td>\n",
       "      <td>['rt', 'shibainuhodler', 'buy', 'shib', 'annou...</td>\n",
       "      <td>['rt', 'shibainuhodl', 'buy', 'shib', 'announc']</td>\n",
       "      <td>rt shibainuhodl buy shib announc</td>\n",
       "    </tr>\n",
       "  </tbody>\n",
       "</table>\n",
       "</div>"
      ],
      "text/plain": [
       "                       created_at  \\\n",
       "0  Tue Nov 16 15:26:22 +0000 2021   \n",
       "1  Tue Nov 16 15:26:21 +0000 2021   \n",
       "2  Tue Nov 16 15:26:21 +0000 2021   \n",
       "3  Tue Nov 16 15:26:18 +0000 2021   \n",
       "4  Tue Nov 16 15:26:16 +0000 2021   \n",
       "\n",
       "                                           full_text  \\\n",
       "0  @AmazonHelp @amazon  - What is going on with P...   \n",
       "1  RT @ShibaInuHodler: Buy #Shib before @Amazon a...   \n",
       "2  Gone to Pot: Welcome to the Shit Show: 7 Dirty...   \n",
       "3  @ShibaInuHodler @amazon Any news update of thi...   \n",
       "4  RT @ShibaInuHodler: Buy #Shib before @Amazon a...   \n",
       "\n",
       "                                              source lang  pos  \\\n",
       "0  <a href=\"https://mobile.twitter.com\" rel=\"nofo...   en   50   \n",
       "1  <a href=\"http://twitter.com/download/android\" ...   en   59   \n",
       "2  <a href=\"https://mobile.twitter.com\" rel=\"nofo...   en   50   \n",
       "3  <a href=\"http://twitter.com/download/android\" ...   en   59   \n",
       "4  <a href=\"http://twitter.com/download/android\" ...   en   59   \n",
       "\n",
       "                     new_var           almost_sources        final_sources  \\\n",
       "0      \">Twitter Web App</a>       twitter web app a       twitter web app   \n",
       "1  \">Twitter for Android</a>   twitter for android a   twitter for android   \n",
       "2      \">Twitter Web App</a>       twitter web app a       twitter web app   \n",
       "3  \">Twitter for Android</a>   twitter for android a   twitter for android   \n",
       "4  \">Twitter for Android</a>   twitter for android a   twitter for android   \n",
       "\n",
       "                                           txt_clean  \\\n",
       "0   amazonhelp amazon what is going on with picku...   \n",
       "1  rt shibainuhodler buy shib before amazon annou...   \n",
       "2  gone to pot welcome to the shit show   dirty l...   \n",
       "3     shibainuhodler amazon any news update of this    \n",
       "4  rt shibainuhodler buy shib before amazon annou...   \n",
       "\n",
       "                                       txt_tokenized  \\\n",
       "0  ['going', 'pickup', 'tracking', 'id', 'order',...   \n",
       "1  ['rt', 'shibainuhodler', 'buy', 'shib', 'annou...   \n",
       "2  ['gone', 'pot', 'welcome', 'shit', 'show', 'di...   \n",
       "3               ['shibainuhodler', 'news', 'update']   \n",
       "4  ['rt', 'shibainuhodler', 'buy', 'shib', 'annou...   \n",
       "\n",
       "                                         txt_stemmed  \\\n",
       "0  ['go', 'pickup', 'track', 'id', 'order', 'baja...   \n",
       "1   ['rt', 'shibainuhodl', 'buy', 'shib', 'announc']   \n",
       "2  ['gone', 'pot', 'welcom', 'shit', 'show', 'dir...   \n",
       "3                  ['shibainuhodl', 'news', 'updat']   \n",
       "4   ['rt', 'shibainuhodl', 'buy', 'shib', 'announc']   \n",
       "\n",
       "                                          text_final  \n",
       "0  go pickup track id order bajaj new shakti neo ...  \n",
       "1                   rt shibainuhodl buy shib announc  \n",
       "2  gone pot welcom shit show dirti littl secret c...  \n",
       "3                            shibainuhodl news updat  \n",
       "4                   rt shibainuhodl buy shib announc  "
      ]
     },
     "execution_count": 24,
     "metadata": {},
     "output_type": "execute_result"
    }
   ],
   "source": [
    "# Import Dataset\n",
    "df = pd.read_csv('Post_clean_Tweets.csv')\n",
    "df.head()"
   ]
  },
  {
   "cell_type": "code",
   "execution_count": 25,
   "id": "a69609c0",
   "metadata": {},
   "outputs": [
    {
     "name": "stdout",
     "output_type": "stream",
     "text": [
      "created_at        0\n",
      "full_text         0\n",
      "source            0\n",
      "lang              0\n",
      "pos               0\n",
      "new_var           0\n",
      "almost_sources    0\n",
      "final_sources     0\n",
      "txt_clean         0\n",
      "txt_tokenized     0\n",
      "txt_stemmed       0\n",
      "text_final        5\n",
      "dtype: int64\n"
     ]
    }
   ],
   "source": [
    "# Checking to see if there are any NAN entries\n",
    "\n",
    "count_nan = df.isnull().sum()\n",
    "print(count_nan)"
   ]
  },
  {
   "cell_type": "code",
   "execution_count": 26,
   "id": "1b102cab",
   "metadata": {},
   "outputs": [
    {
     "data": {
      "text/html": [
       "<div>\n",
       "<style scoped>\n",
       "    .dataframe tbody tr th:only-of-type {\n",
       "        vertical-align: middle;\n",
       "    }\n",
       "\n",
       "    .dataframe tbody tr th {\n",
       "        vertical-align: top;\n",
       "    }\n",
       "\n",
       "    .dataframe thead th {\n",
       "        text-align: right;\n",
       "    }\n",
       "</style>\n",
       "<table border=\"1\" class=\"dataframe\">\n",
       "  <thead>\n",
       "    <tr style=\"text-align: right;\">\n",
       "      <th></th>\n",
       "      <th>created_at</th>\n",
       "      <th>full_text</th>\n",
       "      <th>source</th>\n",
       "      <th>lang</th>\n",
       "      <th>pos</th>\n",
       "      <th>new_var</th>\n",
       "      <th>almost_sources</th>\n",
       "      <th>final_sources</th>\n",
       "      <th>txt_clean</th>\n",
       "      <th>txt_tokenized</th>\n",
       "      <th>txt_stemmed</th>\n",
       "      <th>text_final</th>\n",
       "    </tr>\n",
       "  </thead>\n",
       "  <tbody>\n",
       "    <tr>\n",
       "      <th>295</th>\n",
       "      <td>Tue Nov 16 14:33:48 +0000 2021</td>\n",
       "      <td>I’m with @amazon</td>\n",
       "      <td>&lt;a href=\"http://twitter.com/download/iphone\" r...</td>\n",
       "      <td>en</td>\n",
       "      <td>58</td>\n",
       "      <td>\"&gt;Twitter for iPhone&lt;/a&gt;</td>\n",
       "      <td>twitter for iphone a</td>\n",
       "      <td>twitter for iphone</td>\n",
       "      <td>i m with amazon</td>\n",
       "      <td>[]</td>\n",
       "      <td>[]</td>\n",
       "      <td>NaN</td>\n",
       "    </tr>\n",
       "    <tr>\n",
       "      <th>6096</th>\n",
       "      <td>Tue Nov 16 01:42:07 +0000 2021</td>\n",
       "      <td>@Venmo I’m here</td>\n",
       "      <td>&lt;a href=\"http://twitter.com/download/iphone\" r...</td>\n",
       "      <td>en</td>\n",
       "      <td>58</td>\n",
       "      <td>\"&gt;Twitter for iPhone&lt;/a&gt;</td>\n",
       "      <td>twitter for iphone a</td>\n",
       "      <td>twitter for iphone</td>\n",
       "      <td>venmo i m here</td>\n",
       "      <td>[]</td>\n",
       "      <td>[]</td>\n",
       "      <td>NaN</td>\n",
       "    </tr>\n",
       "    <tr>\n",
       "      <th>6102</th>\n",
       "      <td>Tue Nov 16 01:37:34 +0000 2021</td>\n",
       "      <td>@Venmo @Venmo why don’t you Venmo me?</td>\n",
       "      <td>&lt;a href=\"http://twitter.com/download/iphone\" r...</td>\n",
       "      <td>en</td>\n",
       "      <td>58</td>\n",
       "      <td>\"&gt;Twitter for iPhone&lt;/a&gt;</td>\n",
       "      <td>twitter for iphone a</td>\n",
       "      <td>twitter for iphone</td>\n",
       "      <td>venmo venmo why don t you venmo me</td>\n",
       "      <td>[]</td>\n",
       "      <td>[]</td>\n",
       "      <td>NaN</td>\n",
       "    </tr>\n",
       "    <tr>\n",
       "      <th>6972</th>\n",
       "      <td>Mon Nov 15 23:48:38 +0000 2021</td>\n",
       "      <td>@Venmo Can I Venmo you then</td>\n",
       "      <td>&lt;a href=\"https://mobile.twitter.com\" rel=\"nofo...</td>\n",
       "      <td>en</td>\n",
       "      <td>50</td>\n",
       "      <td>\"&gt;Twitter Web App&lt;/a&gt;</td>\n",
       "      <td>twitter web app a</td>\n",
       "      <td>twitter web app</td>\n",
       "      <td>venmo can i venmo you then</td>\n",
       "      <td>[]</td>\n",
       "      <td>[]</td>\n",
       "      <td>NaN</td>\n",
       "    </tr>\n",
       "    <tr>\n",
       "      <th>6999</th>\n",
       "      <td>Mon Nov 15 23:48:13 +0000 2021</td>\n",
       "      <td>@Venmo Will you Venmo me then?</td>\n",
       "      <td>&lt;a href=\"https://mobile.twitter.com\" rel=\"nofo...</td>\n",
       "      <td>en</td>\n",
       "      <td>50</td>\n",
       "      <td>\"&gt;Twitter Web App&lt;/a&gt;</td>\n",
       "      <td>twitter web app a</td>\n",
       "      <td>twitter web app</td>\n",
       "      <td>venmo will you venmo me then</td>\n",
       "      <td>[]</td>\n",
       "      <td>[]</td>\n",
       "      <td>NaN</td>\n",
       "    </tr>\n",
       "  </tbody>\n",
       "</table>\n",
       "</div>"
      ],
      "text/plain": [
       "                          created_at                              full_text  \\\n",
       "295   Tue Nov 16 14:33:48 +0000 2021                       I’m with @amazon   \n",
       "6096  Tue Nov 16 01:42:07 +0000 2021                        @Venmo I’m here   \n",
       "6102  Tue Nov 16 01:37:34 +0000 2021  @Venmo @Venmo why don’t you Venmo me?   \n",
       "6972  Mon Nov 15 23:48:38 +0000 2021            @Venmo Can I Venmo you then   \n",
       "6999  Mon Nov 15 23:48:13 +0000 2021         @Venmo Will you Venmo me then?   \n",
       "\n",
       "                                                 source lang  pos  \\\n",
       "295   <a href=\"http://twitter.com/download/iphone\" r...   en   58   \n",
       "6096  <a href=\"http://twitter.com/download/iphone\" r...   en   58   \n",
       "6102  <a href=\"http://twitter.com/download/iphone\" r...   en   58   \n",
       "6972  <a href=\"https://mobile.twitter.com\" rel=\"nofo...   en   50   \n",
       "6999  <a href=\"https://mobile.twitter.com\" rel=\"nofo...   en   50   \n",
       "\n",
       "                       new_var          almost_sources       final_sources  \\\n",
       "295   \">Twitter for iPhone</a>   twitter for iphone a   twitter for iphone   \n",
       "6096  \">Twitter for iPhone</a>   twitter for iphone a   twitter for iphone   \n",
       "6102  \">Twitter for iPhone</a>   twitter for iphone a   twitter for iphone   \n",
       "6972     \">Twitter Web App</a>      twitter web app a      twitter web app   \n",
       "6999     \">Twitter Web App</a>      twitter web app a      twitter web app   \n",
       "\n",
       "                                 txt_clean txt_tokenized txt_stemmed  \\\n",
       "295                        i m with amazon            []          []   \n",
       "6096                        venmo i m here            []          []   \n",
       "6102   venmo venmo why don t you venmo me             []          []   \n",
       "6972            venmo can i venmo you then            []          []   \n",
       "6999         venmo will you venmo me then             []          []   \n",
       "\n",
       "     text_final  \n",
       "295         NaN  \n",
       "6096        NaN  \n",
       "6102        NaN  \n",
       "6972        NaN  \n",
       "6999        NaN  "
      ]
     },
     "execution_count": 26,
     "metadata": {},
     "output_type": "execute_result"
    }
   ],
   "source": [
    "# Why are there NAN fields?\n",
    "\n",
    "df[df.text_final.isna()]"
   ]
  },
  {
   "cell_type": "code",
   "execution_count": 27,
   "id": "a3ae0bf9",
   "metadata": {},
   "outputs": [
    {
     "name": "stdout",
     "output_type": "stream",
     "text": [
      "created_at        0\n",
      "full_text         0\n",
      "source            0\n",
      "lang              0\n",
      "pos               0\n",
      "new_var           0\n",
      "almost_sources    0\n",
      "final_sources     0\n",
      "txt_clean         0\n",
      "txt_tokenized     0\n",
      "txt_stemmed       0\n",
      "text_final        0\n",
      "dtype: int64\n"
     ]
    }
   ],
   "source": [
    "# It appears the entire tweet was removed as stopwords. I want to remove these 5 entries\n",
    "\n",
    "df = df[~df.text_final.isna()]\n",
    "count_nan = df.isnull().sum()\n",
    "print(count_nan)"
   ]
  },
  {
   "cell_type": "code",
   "execution_count": 28,
   "id": "09cd9080",
   "metadata": {},
   "outputs": [
    {
     "data": {
      "text/html": [
       "<div>\n",
       "<style scoped>\n",
       "    .dataframe tbody tr th:only-of-type {\n",
       "        vertical-align: middle;\n",
       "    }\n",
       "\n",
       "    .dataframe tbody tr th {\n",
       "        vertical-align: top;\n",
       "    }\n",
       "\n",
       "    .dataframe thead th {\n",
       "        text-align: right;\n",
       "    }\n",
       "</style>\n",
       "<table border=\"1\" class=\"dataframe\">\n",
       "  <thead>\n",
       "    <tr style=\"text-align: right;\">\n",
       "      <th></th>\n",
       "      <th>created_at</th>\n",
       "      <th>full_text</th>\n",
       "      <th>source</th>\n",
       "      <th>lang</th>\n",
       "      <th>pos</th>\n",
       "      <th>new_var</th>\n",
       "      <th>almost_sources</th>\n",
       "      <th>final_sources</th>\n",
       "      <th>txt_clean</th>\n",
       "      <th>txt_tokenized</th>\n",
       "      <th>txt_stemmed</th>\n",
       "      <th>text_final</th>\n",
       "      <th>Vader Sentiment</th>\n",
       "      <th>Vader Analysis</th>\n",
       "    </tr>\n",
       "  </thead>\n",
       "  <tbody>\n",
       "    <tr>\n",
       "      <th>0</th>\n",
       "      <td>Tue Nov 16 15:26:22 +0000 2021</td>\n",
       "      <td>@AmazonHelp @amazon  - What is going on with P...</td>\n",
       "      <td>&lt;a href=\"https://mobile.twitter.com\" rel=\"nofo...</td>\n",
       "      <td>en</td>\n",
       "      <td>50</td>\n",
       "      <td>\"&gt;Twitter Web App&lt;/a&gt;</td>\n",
       "      <td>twitter web app a</td>\n",
       "      <td>twitter web app</td>\n",
       "      <td>amazonhelp amazon what is going on with picku...</td>\n",
       "      <td>['going', 'pickup', 'tracking', 'id', 'order',...</td>\n",
       "      <td>['go', 'pickup', 'track', 'id', 'order', 'baja...</td>\n",
       "      <td>go pickup track id order bajaj new shakti neo ...</td>\n",
       "      <td>0.4588</td>\n",
       "      <td>Neutral</td>\n",
       "    </tr>\n",
       "    <tr>\n",
       "      <th>1</th>\n",
       "      <td>Tue Nov 16 15:26:21 +0000 2021</td>\n",
       "      <td>RT @ShibaInuHodler: Buy #Shib before @Amazon a...</td>\n",
       "      <td>&lt;a href=\"http://twitter.com/download/android\" ...</td>\n",
       "      <td>en</td>\n",
       "      <td>59</td>\n",
       "      <td>\"&gt;Twitter for Android&lt;/a&gt;</td>\n",
       "      <td>twitter for android a</td>\n",
       "      <td>twitter for android</td>\n",
       "      <td>rt shibainuhodler buy shib before amazon annou...</td>\n",
       "      <td>['rt', 'shibainuhodler', 'buy', 'shib', 'annou...</td>\n",
       "      <td>['rt', 'shibainuhodl', 'buy', 'shib', 'announc']</td>\n",
       "      <td>rt shibainuhodl buy shib announc</td>\n",
       "      <td>0.0000</td>\n",
       "      <td>Neutral</td>\n",
       "    </tr>\n",
       "    <tr>\n",
       "      <th>2</th>\n",
       "      <td>Tue Nov 16 15:26:21 +0000 2021</td>\n",
       "      <td>Gone to Pot: Welcome to the Shit Show: 7 Dirty...</td>\n",
       "      <td>&lt;a href=\"https://mobile.twitter.com\" rel=\"nofo...</td>\n",
       "      <td>en</td>\n",
       "      <td>50</td>\n",
       "      <td>\"&gt;Twitter Web App&lt;/a&gt;</td>\n",
       "      <td>twitter web app a</td>\n",
       "      <td>twitter web app</td>\n",
       "      <td>gone to pot welcome to the shit show   dirty l...</td>\n",
       "      <td>['gone', 'pot', 'welcome', 'shit', 'show', 'di...</td>\n",
       "      <td>['gone', 'pot', 'welcom', 'shit', 'show', 'dir...</td>\n",
       "      <td>gone pot welcom shit show dirti littl secret c...</td>\n",
       "      <td>-0.5574</td>\n",
       "      <td>Negative</td>\n",
       "    </tr>\n",
       "    <tr>\n",
       "      <th>3</th>\n",
       "      <td>Tue Nov 16 15:26:18 +0000 2021</td>\n",
       "      <td>@ShibaInuHodler @amazon Any news update of thi...</td>\n",
       "      <td>&lt;a href=\"http://twitter.com/download/android\" ...</td>\n",
       "      <td>en</td>\n",
       "      <td>59</td>\n",
       "      <td>\"&gt;Twitter for Android&lt;/a&gt;</td>\n",
       "      <td>twitter for android a</td>\n",
       "      <td>twitter for android</td>\n",
       "      <td>shibainuhodler amazon any news update of this</td>\n",
       "      <td>['shibainuhodler', 'news', 'update']</td>\n",
       "      <td>['shibainuhodl', 'news', 'updat']</td>\n",
       "      <td>shibainuhodl news updat</td>\n",
       "      <td>0.0000</td>\n",
       "      <td>Neutral</td>\n",
       "    </tr>\n",
       "    <tr>\n",
       "      <th>4</th>\n",
       "      <td>Tue Nov 16 15:26:16 +0000 2021</td>\n",
       "      <td>RT @ShibaInuHodler: Buy #Shib before @Amazon a...</td>\n",
       "      <td>&lt;a href=\"http://twitter.com/download/android\" ...</td>\n",
       "      <td>en</td>\n",
       "      <td>59</td>\n",
       "      <td>\"&gt;Twitter for Android&lt;/a&gt;</td>\n",
       "      <td>twitter for android a</td>\n",
       "      <td>twitter for android</td>\n",
       "      <td>rt shibainuhodler buy shib before amazon annou...</td>\n",
       "      <td>['rt', 'shibainuhodler', 'buy', 'shib', 'annou...</td>\n",
       "      <td>['rt', 'shibainuhodl', 'buy', 'shib', 'announc']</td>\n",
       "      <td>rt shibainuhodl buy shib announc</td>\n",
       "      <td>0.0000</td>\n",
       "      <td>Neutral</td>\n",
       "    </tr>\n",
       "  </tbody>\n",
       "</table>\n",
       "</div>"
      ],
      "text/plain": [
       "                       created_at  \\\n",
       "0  Tue Nov 16 15:26:22 +0000 2021   \n",
       "1  Tue Nov 16 15:26:21 +0000 2021   \n",
       "2  Tue Nov 16 15:26:21 +0000 2021   \n",
       "3  Tue Nov 16 15:26:18 +0000 2021   \n",
       "4  Tue Nov 16 15:26:16 +0000 2021   \n",
       "\n",
       "                                           full_text  \\\n",
       "0  @AmazonHelp @amazon  - What is going on with P...   \n",
       "1  RT @ShibaInuHodler: Buy #Shib before @Amazon a...   \n",
       "2  Gone to Pot: Welcome to the Shit Show: 7 Dirty...   \n",
       "3  @ShibaInuHodler @amazon Any news update of thi...   \n",
       "4  RT @ShibaInuHodler: Buy #Shib before @Amazon a...   \n",
       "\n",
       "                                              source lang  pos  \\\n",
       "0  <a href=\"https://mobile.twitter.com\" rel=\"nofo...   en   50   \n",
       "1  <a href=\"http://twitter.com/download/android\" ...   en   59   \n",
       "2  <a href=\"https://mobile.twitter.com\" rel=\"nofo...   en   50   \n",
       "3  <a href=\"http://twitter.com/download/android\" ...   en   59   \n",
       "4  <a href=\"http://twitter.com/download/android\" ...   en   59   \n",
       "\n",
       "                     new_var           almost_sources        final_sources  \\\n",
       "0      \">Twitter Web App</a>       twitter web app a       twitter web app   \n",
       "1  \">Twitter for Android</a>   twitter for android a   twitter for android   \n",
       "2      \">Twitter Web App</a>       twitter web app a       twitter web app   \n",
       "3  \">Twitter for Android</a>   twitter for android a   twitter for android   \n",
       "4  \">Twitter for Android</a>   twitter for android a   twitter for android   \n",
       "\n",
       "                                           txt_clean  \\\n",
       "0   amazonhelp amazon what is going on with picku...   \n",
       "1  rt shibainuhodler buy shib before amazon annou...   \n",
       "2  gone to pot welcome to the shit show   dirty l...   \n",
       "3     shibainuhodler amazon any news update of this    \n",
       "4  rt shibainuhodler buy shib before amazon annou...   \n",
       "\n",
       "                                       txt_tokenized  \\\n",
       "0  ['going', 'pickup', 'tracking', 'id', 'order',...   \n",
       "1  ['rt', 'shibainuhodler', 'buy', 'shib', 'annou...   \n",
       "2  ['gone', 'pot', 'welcome', 'shit', 'show', 'di...   \n",
       "3               ['shibainuhodler', 'news', 'update']   \n",
       "4  ['rt', 'shibainuhodler', 'buy', 'shib', 'annou...   \n",
       "\n",
       "                                         txt_stemmed  \\\n",
       "0  ['go', 'pickup', 'track', 'id', 'order', 'baja...   \n",
       "1   ['rt', 'shibainuhodl', 'buy', 'shib', 'announc']   \n",
       "2  ['gone', 'pot', 'welcom', 'shit', 'show', 'dir...   \n",
       "3                  ['shibainuhodl', 'news', 'updat']   \n",
       "4   ['rt', 'shibainuhodl', 'buy', 'shib', 'announc']   \n",
       "\n",
       "                                          text_final  Vader Sentiment  \\\n",
       "0  go pickup track id order bajaj new shakti neo ...           0.4588   \n",
       "1                   rt shibainuhodl buy shib announc           0.0000   \n",
       "2  gone pot welcom shit show dirti littl secret c...          -0.5574   \n",
       "3                            shibainuhodl news updat           0.0000   \n",
       "4                   rt shibainuhodl buy shib announc           0.0000   \n",
       "\n",
       "  Vader Analysis  \n",
       "0        Neutral  \n",
       "1        Neutral  \n",
       "2       Negative  \n",
       "3        Neutral  \n",
       "4        Neutral  "
      ]
     },
     "execution_count": 28,
     "metadata": {},
     "output_type": "execute_result"
    }
   ],
   "source": [
    "# Applying Vader Analysis to the text_final to get a feel for the \"tone\" of the data\n",
    "\n",
    "# initializing the analyzer from Vader\n",
    "\n",
    "analyzer = SentimentIntensityAnalyzer()\n",
    "\n",
    "# creating 2 new columns in the dataframe applying the two functions defined above\n",
    "\n",
    "df['Vader Sentiment'] = df['text_final'].apply(vadersentimentanalysis)\n",
    "df['Vader Analysis'] = df['Vader Sentiment'].apply(vader_analysis)\n",
    "df.head()"
   ]
  },
  {
   "cell_type": "code",
   "execution_count": 29,
   "id": "89768e78",
   "metadata": {},
   "outputs": [
    {
     "data": {
      "text/plain": [
       "Neutral     5150\n",
       "Negative    1059\n",
       "Positive     860\n",
       "Name: Vader Analysis, dtype: int64"
      ]
     },
     "execution_count": 29,
     "metadata": {},
     "output_type": "execute_result"
    }
   ],
   "source": [
    "# overall count of positive vs negative vs neutral\n",
    "\n",
    "vader_counts = df['Vader Analysis'].value_counts()\n",
    "vader_counts"
   ]
  },
  {
   "cell_type": "code",
   "execution_count": 30,
   "id": "5512ea17",
   "metadata": {},
   "outputs": [
    {
     "data": {
      "image/png": "[encoded data removed]",
      "text/plain": [
       "<Figure size 432x288 with 1 Axes>"
      ]
     },
     "metadata": {},
     "output_type": "display_data"
    }
   ],
   "source": [
    "# Pie Chart\n",
    "\n",
    "plt.pie(vader_counts, labels=vader_counts.index, autopct='%1.1f%%', startangle=90, \n",
    "       shadow=False)\n",
    "plt.title('Percentage of Tweets as Negative, Neutral, or Positive')\n",
    "plt.axis('scaled')\n",
    "plt.show()"
   ]
  },
  {
   "cell_type": "code",
   "execution_count": 31,
   "id": "31cbf53b",
   "metadata": {},
   "outputs": [
    {
     "data": {
      "text/plain": [
       "miss      508\n",
       "http      503\n",
       "co        503\n",
       "rt        468\n",
       "someon    310\n",
       "day       310\n",
       "beauti    301\n",
       "check     265\n",
       "via       249\n",
       "get        70\n",
       "dtype: int64"
      ]
     },
     "execution_count": 31,
     "metadata": {},
     "output_type": "execute_result"
    }
   ],
   "source": [
    "# Since Negative tweets are the 2nd most common in this corpus, let's look at the most common words\n",
    "\n",
    "df_neg = df[df['Vader Analysis'] == 'Negative']\n",
    "corpus = df_neg['text_final']\n",
    "negative = pd.Series(' '.join(corpus).split()).value_counts()[:10]\n",
    "negative"
   ]
  },
  {
   "cell_type": "code",
   "execution_count": 32,
   "id": "0f0c7fb0",
   "metadata": {},
   "outputs": [
    {
     "data": {
      "image/png": "[encoded data removed]",
      "text/plain": [
       "<Figure size 864x720 with 1 Axes>"
      ]
     },
     "metadata": {
      "needs_background": "light"
     },
     "output_type": "display_data"
    }
   ],
   "source": [
    "ax=negative.plot(kind='bar',fontsize=14,figsize=(12,10))\n",
    "ax.set_title('Negative Tweets Most Common Words\\n', fontsize=20)\n",
    "ax.set_ylabel('Frequency', fontsize=18)\n",
    "ax.set_xlabel('Most Commonly Found Words', fontsize=18)\n",
    "plt.show()"
   ]
  },
  {
   "cell_type": "code",
   "execution_count": 33,
   "id": "d661b2df",
   "metadata": {},
   "outputs": [
    {
     "data": {
      "text/plain": [
       "co        657\n",
       "http      650\n",
       "check     384\n",
       "rt        327\n",
       "via       317\n",
       "p         113\n",
       "gift      108\n",
       "amp       108\n",
       "love      103\n",
       "vintag     99\n",
       "dtype: int64"
      ]
     },
     "execution_count": 33,
     "metadata": {},
     "output_type": "execute_result"
    }
   ],
   "source": [
    "# Curious to see how positive tweets compare\n",
    "\n",
    "df_pos = df[df['Vader Analysis'] == 'Positive']\n",
    "corpus = df_pos['text_final']\n",
    "positive = pd.Series(' '.join(corpus).split()).value_counts()[:10]\n",
    "positive"
   ]
  },
  {
   "cell_type": "code",
   "execution_count": 34,
   "id": "2d66e57a",
   "metadata": {},
   "outputs": [
    {
     "data": {
      "image/png": "[encoded data removed]",
      "text/plain": [
       "<Figure size 864x720 with 1 Axes>"
      ]
     },
     "metadata": {
      "needs_background": "light"
     },
     "output_type": "display_data"
    }
   ],
   "source": [
    "ax=positive.plot(kind='bar',fontsize=14,figsize=(12,10))\n",
    "ax.set_title('Positive Tweets Most Common Words\\n', fontsize=20)\n",
    "ax.set_ylabel('Frequency', fontsize=18)\n",
    "ax.set_xlabel('Most Commonly Found Words', fontsize=18)\n",
    "plt.show()"
   ]
  },
  {
   "cell_type": "code",
   "execution_count": 35,
   "id": "334ff2fe",
   "metadata": {},
   "outputs": [],
   "source": [
    "# Next, I want to see if bigrams may shed more light on the data\n",
    "\n",
    "words = basic_clean(''.join(str(df['text_final'].tolist())))\n"
   ]
  },
  {
   "cell_type": "code",
   "execution_count": 36,
   "id": "521b564a",
   "metadata": {},
   "outputs": [
    {
     "data": {
      "text/plain": [
       "(via, check)           1252\n",
       "(via, rt)               747\n",
       "(beauti, day)           456\n",
       "(day, someon)           445\n",
       "(check, vintag)         321\n",
       "(someon, miss)          312\n",
       "(rt, beauti)            299\n",
       "(rt, shibainuhodl)      237\n",
       "(buy, shib)             237\n",
       "(shib, announc)         237\n",
       "(shibainuhodl, buy)     235\n",
       "(rt, mathmania)         213\n",
       "dtype: int64"
      ]
     },
     "execution_count": 36,
     "metadata": {},
     "output_type": "execute_result"
    }
   ],
   "source": [
    "bigrams = pd.Series(nltk.ngrams(words,2)).value_counts()[:12]\n",
    "bigrams"
   ]
  },
  {
   "cell_type": "code",
   "execution_count": 37,
   "id": "9cfaa452",
   "metadata": {},
   "outputs": [
    {
     "data": {
      "image/png": "[encoded data removed]",
      "text/plain": [
       "<Figure size 864x720 with 1 Axes>"
      ]
     },
     "metadata": {
      "needs_background": "light"
     },
     "output_type": "display_data"
    }
   ],
   "source": [
    "ax=bigrams.sort_values().plot(kind='barh',fontsize=14,figsize=(12,10))\n",
    "ax.set_title('Most Commonly Found Bigrams in all Tweets\\n', fontsize=20)\n",
    "ax.set_ylabel('Most Commonly Found Bigrams', fontsize=18)\n",
    "ax.set_xlabel('Frequency', fontsize=18)\n",
    "plt.show()"
   ]
  },
  {
   "cell_type": "markdown",
   "id": "e763f1ed",
   "metadata": {},
   "source": [
    "# Feature Engineering"
   ]
  },
  {
   "cell_type": "code",
   "execution_count": 38,
   "id": "ef134ae5-2553-465e-8d55-c8733d97f7db",
   "metadata": {},
   "outputs": [
    {
     "data": {
      "text/plain": [
       "Index(['twitter web app', 'twitter for iphone', 'twitter for android'], dtype='object')"
      ]
     },
     "execution_count": 38,
     "metadata": {},
     "output_type": "execute_result"
    }
   ],
   "source": [
    "# checking to see what the top 3 most frequent tweet sources are:\n",
    "\n",
    "df.final_sources.value_counts().index[:3]"
   ]
  },
  {
   "cell_type": "code",
   "execution_count": 39,
   "id": "b3e53b46-6b6d-40a4-8582-36117ade53d3",
   "metadata": {},
   "outputs": [
    {
     "data": {
      "text/plain": [
       "twitter web app        3698\n",
       "twitter for iphone     2030\n",
       "twitter for android     873\n",
       "Name: final_sources, dtype: int64"
      ]
     },
     "execution_count": 39,
     "metadata": {},
     "output_type": "execute_result"
    }
   ],
   "source": [
    "top_3 = df.final_sources.value_counts().index[:3]\n",
    "\n",
    "df[df.final_sources.isin(top_3)].final_sources.value_counts()"
   ]
  },
  {
   "cell_type": "code",
   "execution_count": 40,
   "id": "24876f18-b012-4314-9635-06e8e5786780",
   "metadata": {},
   "outputs": [
    {
     "name": "stdout",
     "output_type": "stream",
     "text": [
      "<class 'pandas.core.frame.DataFrame'>\n",
      "Int64Index: 6601 entries, 0 to 7073\n",
      "Data columns (total 14 columns):\n",
      " #   Column           Non-Null Count  Dtype  \n",
      "---  ------           --------------  -----  \n",
      " 0   created_at       6601 non-null   object \n",
      " 1   full_text        6601 non-null   object \n",
      " 2   source           6601 non-null   object \n",
      " 3   lang             6601 non-null   object \n",
      " 4   pos              6601 non-null   int64  \n",
      " 5   new_var          6601 non-null   object \n",
      " 6   almost_sources   6601 non-null   object \n",
      " 7   final_sources    6601 non-null   object \n",
      " 8   txt_clean        6601 non-null   object \n",
      " 9   txt_tokenized    6601 non-null   object \n",
      " 10  txt_stemmed      6601 non-null   object \n",
      " 11  text_final       6601 non-null   object \n",
      " 12  Vader Sentiment  6601 non-null   float64\n",
      " 13  Vader Analysis   6601 non-null   object \n",
      "dtypes: float64(1), int64(1), object(12)\n",
      "memory usage: 773.6+ KB\n"
     ]
    }
   ],
   "source": [
    "# creating a new dataframe of just the tweets from the top 3 sources\n",
    "\n",
    "df_top3 = df[df.final_sources.isin(top_3)]\n",
    "df_top3.info()"
   ]
  },
  {
   "cell_type": "code",
   "execution_count": 41,
   "id": "14c99297-e0d3-448d-9a02-e491dd188400",
   "metadata": {},
   "outputs": [
    {
     "name": "stderr",
     "output_type": "stream",
     "text": [
      "C:\\Users\\chels\\AppData\\Local\\Temp/ipykernel_14132/2943401873.py:8: SettingWithCopyWarning: \n",
      "A value is trying to be set on a copy of a slice from a DataFrame.\n",
      "Try using .loc[row_indexer,col_indexer] = value instead\n",
      "\n",
      "See the caveats in the documentation: https://pandas.pydata.org/pandas-docs/stable/user_guide/indexing.html#returning-a-view-versus-a-copy\n",
      "  df_top3['labels'] = df_top3.final_sources.map(sources_map)\n",
      "C:\\Users\\chels\\AppData\\Local\\Temp/ipykernel_14132/2943401873.py:9: SettingWithCopyWarning: \n",
      "A value is trying to be set on a copy of a slice from a DataFrame.\n",
      "Try using .loc[row_indexer,col_indexer] = value instead\n",
      "\n",
      "See the caveats in the documentation: https://pandas.pydata.org/pandas-docs/stable/user_guide/indexing.html#returning-a-view-versus-a-copy\n",
      "  df_top3['labels'] = df_top3.labels.astype('category')\n"
     ]
    },
    {
     "data": {
      "text/html": [
       "<div>\n",
       "<style scoped>\n",
       "    .dataframe tbody tr th:only-of-type {\n",
       "        vertical-align: middle;\n",
       "    }\n",
       "\n",
       "    .dataframe tbody tr th {\n",
       "        vertical-align: top;\n",
       "    }\n",
       "\n",
       "    .dataframe thead th {\n",
       "        text-align: right;\n",
       "    }\n",
       "</style>\n",
       "<table border=\"1\" class=\"dataframe\">\n",
       "  <thead>\n",
       "    <tr style=\"text-align: right;\">\n",
       "      <th></th>\n",
       "      <th>created_at</th>\n",
       "      <th>full_text</th>\n",
       "      <th>source</th>\n",
       "      <th>lang</th>\n",
       "      <th>pos</th>\n",
       "      <th>new_var</th>\n",
       "      <th>almost_sources</th>\n",
       "      <th>final_sources</th>\n",
       "      <th>txt_clean</th>\n",
       "      <th>txt_tokenized</th>\n",
       "      <th>txt_stemmed</th>\n",
       "      <th>text_final</th>\n",
       "      <th>Vader Sentiment</th>\n",
       "      <th>Vader Analysis</th>\n",
       "      <th>labels</th>\n",
       "    </tr>\n",
       "  </thead>\n",
       "  <tbody>\n",
       "    <tr>\n",
       "      <th>0</th>\n",
       "      <td>Tue Nov 16 15:26:22 +0000 2021</td>\n",
       "      <td>@AmazonHelp @amazon  - What is going on with P...</td>\n",
       "      <td>&lt;a href=\"https://mobile.twitter.com\" rel=\"nofo...</td>\n",
       "      <td>en</td>\n",
       "      <td>50</td>\n",
       "      <td>\"&gt;Twitter Web App&lt;/a&gt;</td>\n",
       "      <td>twitter web app a</td>\n",
       "      <td>twitter web app</td>\n",
       "      <td>amazonhelp amazon what is going on with picku...</td>\n",
       "      <td>['going', 'pickup', 'tracking', 'id', 'order',...</td>\n",
       "      <td>['go', 'pickup', 'track', 'id', 'order', 'baja...</td>\n",
       "      <td>go pickup track id order bajaj new shakti neo ...</td>\n",
       "      <td>0.4588</td>\n",
       "      <td>Neutral</td>\n",
       "      <td>0</td>\n",
       "    </tr>\n",
       "    <tr>\n",
       "      <th>1</th>\n",
       "      <td>Tue Nov 16 15:26:21 +0000 2021</td>\n",
       "      <td>RT @ShibaInuHodler: Buy #Shib before @Amazon a...</td>\n",
       "      <td>&lt;a href=\"http://twitter.com/download/android\" ...</td>\n",
       "      <td>en</td>\n",
       "      <td>59</td>\n",
       "      <td>\"&gt;Twitter for Android&lt;/a&gt;</td>\n",
       "      <td>twitter for android a</td>\n",
       "      <td>twitter for android</td>\n",
       "      <td>rt shibainuhodler buy shib before amazon annou...</td>\n",
       "      <td>['rt', 'shibainuhodler', 'buy', 'shib', 'annou...</td>\n",
       "      <td>['rt', 'shibainuhodl', 'buy', 'shib', 'announc']</td>\n",
       "      <td>rt shibainuhodl buy shib announc</td>\n",
       "      <td>0.0000</td>\n",
       "      <td>Neutral</td>\n",
       "      <td>2</td>\n",
       "    </tr>\n",
       "    <tr>\n",
       "      <th>2</th>\n",
       "      <td>Tue Nov 16 15:26:21 +0000 2021</td>\n",
       "      <td>Gone to Pot: Welcome to the Shit Show: 7 Dirty...</td>\n",
       "      <td>&lt;a href=\"https://mobile.twitter.com\" rel=\"nofo...</td>\n",
       "      <td>en</td>\n",
       "      <td>50</td>\n",
       "      <td>\"&gt;Twitter Web App&lt;/a&gt;</td>\n",
       "      <td>twitter web app a</td>\n",
       "      <td>twitter web app</td>\n",
       "      <td>gone to pot welcome to the shit show   dirty l...</td>\n",
       "      <td>['gone', 'pot', 'welcome', 'shit', 'show', 'di...</td>\n",
       "      <td>['gone', 'pot', 'welcom', 'shit', 'show', 'dir...</td>\n",
       "      <td>gone pot welcom shit show dirti littl secret c...</td>\n",
       "      <td>-0.5574</td>\n",
       "      <td>Negative</td>\n",
       "      <td>0</td>\n",
       "    </tr>\n",
       "    <tr>\n",
       "      <th>3</th>\n",
       "      <td>Tue Nov 16 15:26:18 +0000 2021</td>\n",
       "      <td>@ShibaInuHodler @amazon Any news update of thi...</td>\n",
       "      <td>&lt;a href=\"http://twitter.com/download/android\" ...</td>\n",
       "      <td>en</td>\n",
       "      <td>59</td>\n",
       "      <td>\"&gt;Twitter for Android&lt;/a&gt;</td>\n",
       "      <td>twitter for android a</td>\n",
       "      <td>twitter for android</td>\n",
       "      <td>shibainuhodler amazon any news update of this</td>\n",
       "      <td>['shibainuhodler', 'news', 'update']</td>\n",
       "      <td>['shibainuhodl', 'news', 'updat']</td>\n",
       "      <td>shibainuhodl news updat</td>\n",
       "      <td>0.0000</td>\n",
       "      <td>Neutral</td>\n",
       "      <td>2</td>\n",
       "    </tr>\n",
       "    <tr>\n",
       "      <th>4</th>\n",
       "      <td>Tue Nov 16 15:26:16 +0000 2021</td>\n",
       "      <td>RT @ShibaInuHodler: Buy #Shib before @Amazon a...</td>\n",
       "      <td>&lt;a href=\"http://twitter.com/download/android\" ...</td>\n",
       "      <td>en</td>\n",
       "      <td>59</td>\n",
       "      <td>\"&gt;Twitter for Android&lt;/a&gt;</td>\n",
       "      <td>twitter for android a</td>\n",
       "      <td>twitter for android</td>\n",
       "      <td>rt shibainuhodler buy shib before amazon annou...</td>\n",
       "      <td>['rt', 'shibainuhodler', 'buy', 'shib', 'annou...</td>\n",
       "      <td>['rt', 'shibainuhodl', 'buy', 'shib', 'announc']</td>\n",
       "      <td>rt shibainuhodl buy shib announc</td>\n",
       "      <td>0.0000</td>\n",
       "      <td>Neutral</td>\n",
       "      <td>2</td>\n",
       "    </tr>\n",
       "  </tbody>\n",
       "</table>\n",
       "</div>"
      ],
      "text/plain": [
       "                       created_at  \\\n",
       "0  Tue Nov 16 15:26:22 +0000 2021   \n",
       "1  Tue Nov 16 15:26:21 +0000 2021   \n",
       "2  Tue Nov 16 15:26:21 +0000 2021   \n",
       "3  Tue Nov 16 15:26:18 +0000 2021   \n",
       "4  Tue Nov 16 15:26:16 +0000 2021   \n",
       "\n",
       "                                           full_text  \\\n",
       "0  @AmazonHelp @amazon  - What is going on with P...   \n",
       "1  RT @ShibaInuHodler: Buy #Shib before @Amazon a...   \n",
       "2  Gone to Pot: Welcome to the Shit Show: 7 Dirty...   \n",
       "3  @ShibaInuHodler @amazon Any news update of thi...   \n",
       "4  RT @ShibaInuHodler: Buy #Shib before @Amazon a...   \n",
       "\n",
       "                                              source lang  pos  \\\n",
       "0  <a href=\"https://mobile.twitter.com\" rel=\"nofo...   en   50   \n",
       "1  <a href=\"http://twitter.com/download/android\" ...   en   59   \n",
       "2  <a href=\"https://mobile.twitter.com\" rel=\"nofo...   en   50   \n",
       "3  <a href=\"http://twitter.com/download/android\" ...   en   59   \n",
       "4  <a href=\"http://twitter.com/download/android\" ...   en   59   \n",
       "\n",
       "                     new_var           almost_sources        final_sources  \\\n",
       "0      \">Twitter Web App</a>       twitter web app a       twitter web app   \n",
       "1  \">Twitter for Android</a>   twitter for android a   twitter for android   \n",
       "2      \">Twitter Web App</a>       twitter web app a       twitter web app   \n",
       "3  \">Twitter for Android</a>   twitter for android a   twitter for android   \n",
       "4  \">Twitter for Android</a>   twitter for android a   twitter for android   \n",
       "\n",
       "                                           txt_clean  \\\n",
       "0   amazonhelp amazon what is going on with picku...   \n",
       "1  rt shibainuhodler buy shib before amazon annou...   \n",
       "2  gone to pot welcome to the shit show   dirty l...   \n",
       "3     shibainuhodler amazon any news update of this    \n",
       "4  rt shibainuhodler buy shib before amazon annou...   \n",
       "\n",
       "                                       txt_tokenized  \\\n",
       "0  ['going', 'pickup', 'tracking', 'id', 'order',...   \n",
       "1  ['rt', 'shibainuhodler', 'buy', 'shib', 'annou...   \n",
       "2  ['gone', 'pot', 'welcome', 'shit', 'show', 'di...   \n",
       "3               ['shibainuhodler', 'news', 'update']   \n",
       "4  ['rt', 'shibainuhodler', 'buy', 'shib', 'annou...   \n",
       "\n",
       "                                         txt_stemmed  \\\n",
       "0  ['go', 'pickup', 'track', 'id', 'order', 'baja...   \n",
       "1   ['rt', 'shibainuhodl', 'buy', 'shib', 'announc']   \n",
       "2  ['gone', 'pot', 'welcom', 'shit', 'show', 'dir...   \n",
       "3                  ['shibainuhodl', 'news', 'updat']   \n",
       "4   ['rt', 'shibainuhodl', 'buy', 'shib', 'announc']   \n",
       "\n",
       "                                          text_final  Vader Sentiment  \\\n",
       "0  go pickup track id order bajaj new shakti neo ...           0.4588   \n",
       "1                   rt shibainuhodl buy shib announc           0.0000   \n",
       "2  gone pot welcom shit show dirti littl secret c...          -0.5574   \n",
       "3                            shibainuhodl news updat           0.0000   \n",
       "4                   rt shibainuhodl buy shib announc           0.0000   \n",
       "\n",
       "  Vader Analysis labels  \n",
       "0        Neutral      0  \n",
       "1        Neutral      2  \n",
       "2       Negative      0  \n",
       "3        Neutral      2  \n",
       "4        Neutral      2  "
      ]
     },
     "execution_count": 41,
     "metadata": {},
     "output_type": "execute_result"
    }
   ],
   "source": [
    "# creating a category feature identifying the tweet source\n",
    "\n",
    "sources_map = {\n",
    "    'twitter for iphone': 1,\n",
    "    'twitter for android': 2,\n",
    "    'twitter web app': 0\n",
    "}\n",
    "df_top3['labels'] = df_top3.final_sources.map(sources_map)\n",
    "df_top3['labels'] = df_top3.labels.astype('category')\n",
    "df_top3.head()"
   ]
  },
  {
   "cell_type": "code",
   "execution_count": 42,
   "id": "2af369ac-adbc-4a4e-9d63-826c52bfd6a7",
   "metadata": {},
   "outputs": [],
   "source": [
    "# create the corpus for TFIDF\n",
    "\n",
    "corpus = df_top3['text_final'].values.astype('U')\n",
    "tfidf = TfidfVectorizer()\n",
    "X = tfidf.fit_transform(corpus)\n",
    "y = df_top3['labels']"
   ]
  },
  {
   "cell_type": "code",
   "execution_count": 43,
   "id": "6009919e-d0c4-4d59-b10b-47fd34833d5e",
   "metadata": {},
   "outputs": [],
   "source": [
    "# Split the data into testing & training data sets\n",
    "\n",
    "X_train, X_test, y_train, y_test = train_test_split(X, y, test_size=0.2, stratify=y)"
   ]
  },
  {
   "cell_type": "code",
   "execution_count": 44,
   "id": "aaf90b5a-eaa6-4de2-a98c-2ca362f8ca5a",
   "metadata": {},
   "outputs": [
    {
     "data": {
      "text/plain": [
       "(5280, 15670)"
      ]
     },
     "execution_count": 44,
     "metadata": {},
     "output_type": "execute_result"
    }
   ],
   "source": [
    "# Looking to make sure they are the same length\n",
    "\n",
    "X_train.shape"
   ]
  },
  {
   "cell_type": "code",
   "execution_count": 45,
   "id": "d65637dc-3b5e-45d8-8153-f7f135330c00",
   "metadata": {},
   "outputs": [
    {
     "data": {
      "text/plain": [
       "(5280,)"
      ]
     },
     "execution_count": 45,
     "metadata": {},
     "output_type": "execute_result"
    }
   ],
   "source": [
    "y_train.shape"
   ]
  },
  {
   "cell_type": "code",
   "execution_count": 46,
   "id": "ec7ba1da-b32b-4043-ad4a-f3c31afa358b",
   "metadata": {},
   "outputs": [
    {
     "name": "stdout",
     "output_type": "stream",
     "text": [
      "Class=2, n=2958 (33.333%)\n",
      "Class=0, n=2958 (33.333%)\n",
      "Class=1, n=2958 (33.333%)\n"
     ]
    },
    {
     "data": {
      "image/png": "[encoded data removed]",
      "text/plain": [
       "<Figure size 432x288 with 1 Axes>"
      ]
     },
     "metadata": {
      "needs_background": "light"
     },
     "output_type": "display_data"
    }
   ],
   "source": [
    "# Since the dataset is so varied between the top 3 (twitter web app being almost double the iphone app) I want to oversample via SMOTE\n",
    "\n",
    "X = X_train\n",
    "y = y_train\n",
    "\n",
    "# transform the training data only\n",
    "\n",
    "oversample = SMOTE()\n",
    "X, y = oversample.fit_resample(X, y)\n",
    "# summarize distribution\n",
    "counter = Counter(y)\n",
    "for k,v in counter.items():\n",
    "\tper = v / len(y) * 100\n",
    "\tprint('Class=%d, n=%d (%.3f%%)' % (k, v, per))\n",
    "# plot the distribution\n",
    "pyplot.bar(counter.keys(), counter.values())\n",
    "pyplot.show()"
   ]
  },
  {
   "cell_type": "markdown",
   "id": "74b47e7e",
   "metadata": {},
   "source": [
    "### Model Selection & Evaluation"
   ]
  },
  {
   "cell_type": "code",
   "execution_count": 47,
   "id": "586d3860-b8d3-4907-bbfa-e1d6fdc1456f",
   "metadata": {},
   "outputs": [
    {
     "data": {
      "text/plain": [
       "RandomForestClassifier()"
      ]
     },
     "execution_count": 47,
     "metadata": {},
     "output_type": "execute_result"
    }
   ],
   "source": [
    "# Now, all three tweet sources are represented equally in the training data\n",
    "\n",
    "# fit the training data with a Random Forest Classifier\n",
    "\n",
    "classifier = RandomForestClassifier()\n",
    "classifier.fit(X_train, y_train)"
   ]
  },
  {
   "cell_type": "code",
   "execution_count": 48,
   "id": "303d8e65-f35f-4323-bdff-a08f8f143735",
   "metadata": {},
   "outputs": [
    {
     "name": "stdout",
     "output_type": "stream",
     "text": [
      "ROC AUC:  0.8949851763569637\n",
      "Classification Report:\n",
      "              precision    recall  f1-score   support\n",
      "\n",
      "           0       0.88      0.90      0.89       740\n",
      "           1       0.70      0.80      0.75       406\n",
      "           2       0.63      0.37      0.47       175\n",
      "\n",
      "    accuracy                           0.80      1321\n",
      "   macro avg       0.74      0.69      0.70      1321\n",
      "weighted avg       0.79      0.80      0.79      1321\n",
      "\n",
      "Accuracy: 79.86373959121877\n"
     ]
    }
   ],
   "source": [
    "y_pred = classifier.predict(X_test)\n",
    "y_prob = classifier.predict_proba(X_test)\n",
    "print(\"ROC AUC: \", roc_auc_score(y_test, y_prob, multi_class='ovr'))\n",
    "print(\"Classification Report:\",)\n",
    "print (classification_report(y_test, y_pred))\n",
    "print(\"Accuracy:\", accuracy_score(y_test,y_pred)*100)"
   ]
  },
  {
   "cell_type": "code",
   "execution_count": 49,
   "id": "b24de29a-87fd-4831-a34c-68dea7a2cc50",
   "metadata": {},
   "outputs": [],
   "source": [
    "# fit the training dataset on the NB classifier\n",
    "\n",
    "Naive = naive_bayes.MultinomialNB()\n",
    "Naive.fit(X_train, y_train)\n",
    "\n",
    "# predict the labels on validation dataset\n",
    "predictions_NB = Naive.predict(X_test)"
   ]
  },
  {
   "cell_type": "code",
   "execution_count": 50,
   "id": "c3f9af1d-e40f-4d23-814b-c39dec145e5d",
   "metadata": {},
   "outputs": [
    {
     "name": "stdout",
     "output_type": "stream",
     "text": [
      "Naive Bayes Accuracy Score ->  74.41332323996971\n"
     ]
    }
   ],
   "source": [
    "# Use accuracy_score function to get the accuracy\n",
    "\n",
    "print(\"Naive Bayes Accuracy Score -> \",accuracy_score(predictions_NB, y_test)*100)"
   ]
  }
 ],
 "metadata": {
  "kernelspec": {
   "display_name": "Python 3",
   "language": "python",
   "name": "python3"
  },
  "language_info": {
   "codemirror_mode": {
    "name": "ipython",
    "version": 3
   },
   "file_extension": ".py",
   "mimetype": "text/x-python",
   "name": "python",
   "nbconvert_exporter": "python",
   "pygments_lexer": "ipython3",
   "version": "3.8.8"
  }
 },
 "nbformat": 4,
 "nbformat_minor": 5
}
